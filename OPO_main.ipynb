{
 "cells": [
  {
   "cell_type": "markdown",
   "id": "73604b4e",
   "metadata": {},
   "source": [
    "# About the code"
   ]
  },
  {
   "cell_type": "markdown",
   "id": "71b33eac",
   "metadata": {},
   "source": [
    "This is a main jupyter notebook used to initiate / control the OPO setup and to acquire data. The overall experimental setup is explained in Fig. S7 of supplementary information."
   ]
  },
  {
   "cell_type": "markdown",
   "id": "bc2115f2",
   "metadata": {},
   "source": [
    "# Import python packages & set global variables"
   ]
  },
  {
   "cell_type": "code",
   "execution_count": 8,
   "id": "8d58d800",
   "metadata": {
    "ExecuteTime": {
     "end_time": "2023-05-23T17:25:57.098917Z",
     "start_time": "2023-05-23T17:25:57.072566Z"
    },
    "init_cell": true
   },
   "outputs": [],
   "source": [
    "## Import all the necessary libraries (to install use pip or use directly the github of said libraries or use requirements.txt)\n",
    "\n",
    "import pyvisa #package to control instrument\n",
    "import numpy as np\n",
    "import matplotlib.pyplot as plt\n",
    "import time,sys\n",
    "from math import sqrt\n",
    "from ctypes import *\n",
    "import scipy.signal\n",
    "from copy import copy, deepcopy\n",
    "from datetime import datetime\n",
    "import win32com.client\n",
    "import toptica.lasersdk.client\n",
    "from toptica.lasersdk.client import Client, NetworkConnection\n",
    "from toptica.lasersdk.client import UserLevel, Subscription, Timestamp, SubscriptionValue\n",
    "from collections import Counter\n",
    "import os\n",
    "from datetime import date\n",
    "from nistrng import *\n",
    "import scipy.io\n",
    "import thorlabs_apt\n",
    "import pylablib.devices.Thorlabs\n",
    "%matplotlib notebook     \n",
    "#Enable the plotting on Jupyter Notebook"
   ]
  },
  {
   "cell_type": "markdown",
   "id": "87d90240",
   "metadata": {},
   "source": [
    "Specific values asssigned here can be adjusted locally in later cells"
   ]
  },
  {
   "cell_type": "code",
   "execution_count": 4,
   "id": "cbbc0836",
   "metadata": {
    "ExecuteTime": {
     "end_time": "2023-05-19T19:45:46.168054Z",
     "start_time": "2023-05-19T19:45:46.162198Z"
    }
   },
   "outputs": [],
   "source": [
    "#Input variables:\n",
    "\n",
    "Data_Path = #\"path_to_save_data\"\n",
    "\n",
    "#VISA instrument names\n",
    "fgen_visa = #visa name of funciton generator EX. \"GPIBO::12:INSTR\"\n",
    "osc_visa = #visa name of oscilloscope\n",
    "PID_visa = #visa name of PID\n",
    "MotionControll_visa= #visa name of Rotation Angle Filter \n",
    "\n",
    "\n",
    "# Function Generator sweeping variables\n",
    "# These variables set the values of the function generator in order to sweep the cavity for resonance peaks\n",
    "\n",
    "func_symmetry = 50 # symmetry of functions (e.g 100, 50)\n",
    "phase = 0 # Phase angle\n",
    "volt_high = 5 # Maximum voltage of function (in volts)\n",
    "volt_low = 0 # Minimum voltage of function (in volts)\n",
    "freq = 100 # Frequency of function (in Hertz)\n",
    "func_channel= 2  # Channel used by the sweep in the function generator\n",
    "#waveform is hardcoded in the programm\n",
    "\n",
    "# Value for the modulation\n",
    "\n",
    "modulation_simmetry = 50\n",
    "modulation_phase = 0 #Phase angle\n",
    "modulation_volt_high = 1.60 # Maximum voltage of function (in volts)\n",
    "modulation_volt_low = -5.650 #Minimum voltage of function (in volts)\n",
    "modulation_freq = 10e3 # Frequency of function (in Hertz)\n",
    "modulation_channel= 1 #Channel used by the Modulation in the function generator\n",
    "#waveform is hardcoded in the programm\n",
    "\n",
    "# Oscilloscope variables\n",
    "# These variables set the oscilloscope display and data recording settings\n",
    "\n",
    "opo_ch_source = 1 # stores the channel input for the opo signal (e.g 1)\n",
    "error_ch_source = 4 # stores the channel input for the error signal (e.g 1)\n",
    "volt_ch_source = 3 # stores the channel input for the driving voltage signal (e.g 1)\n",
    "modulation_ch_source = 2 # stores the channel input for the driving modulation signal (e.g 1)\n",
    "opo_volts_per_div = 0.05 # sets the vertical voltage sscale of oscilloscope opo input(in volts)\n",
    "error_volts_per_div = 0.02 # sets the vertical voltage sscale of oscilloscope error signal input (in volts)\n",
    "voltage_volts_per_div = 0.2 # sets the vertical voltage sscale of oscilloscope voltage signal input(in volts)\n",
    "trigger_level = 0.6 # sets the trigger level on oscilloscope in order to trigger the scope and collect data (in volts)\n",
    "nbr_data_points= 200000 # Number of data points in the oscilloscope\n",
    "\n",
    "#PID controller parameters\n",
    "setpoint_mode = 0 # sets the set point mode, 0 for internal, 1 for external\n",
    "offset = 0.3 #sets the offset of the PID box (in volts)\n",
    "max_out=offset*2 # Maximum voltage given by the PID (in volts)\n",
    "min_out=0  # Minimum voltage given by the PID (in volts)\n",
    "p_gain = 0.4 #sets the proportional gain of PID \n",
    "i_gain = 14.8E3 # sets the integral gain of PID\n",
    "#Initial PID BOX variables\n",
    "\n",
    "#These variables set the initial mode and values of the PID box\n",
    "manual_output = offset #The voltage output in volts of the PID box in manual mode"
   ]
  },
  {
   "cell_type": "markdown",
   "id": "57423b88",
   "metadata": {},
   "source": [
    "# Component controller"
   ]
  },
  {
   "cell_type": "markdown",
   "id": "c6b92e6a",
   "metadata": {},
   "source": [
    "This section define all the necessary tools to control the electric devices connected to the computer."
   ]
  },
  {
   "cell_type": "markdown",
   "id": "4d90b58f",
   "metadata": {},
   "source": [
    "### PID Controller"
   ]
  },
  {
   "cell_type": "code",
   "execution_count": 10,
   "id": "0fe93ad9",
   "metadata": {
    "ExecuteTime": {
     "end_time": "2023-05-23T17:28:14.777790Z",
     "start_time": "2023-05-23T17:28:14.773885Z"
    },
    "init_cell": true
   },
   "outputs": [],
   "source": [
    "# Define a class for a PID object that can control the PID\n",
    "\n",
    "class PID :\n",
    "   \n",
    "    def __init__(self, path=PID_visa): \n",
    "        \n",
    "        # path : String like pointing to the visa address of the PID\n",
    "        # Initiate an instance of the PID, use the visa adress \"path\"\n",
    "        \n",
    "        rm = pyvisa.ResourceManager()\n",
    "        self.conn = rm.open_resource(path)\n",
    "        self.dType = self.conn.query('*IDN?')\n",
    "        print (\"PID connected : \" + self.dType)  #Indicate to the user that the PID is connected\n",
    "            \n",
    "    def set_offset(self,V=0.64):\n",
    "        \n",
    "        # V : Float for the voltage \n",
    "        # Set the offset of the PID to \"V\" (in V)\n",
    "        \n",
    "        self.conn.write(\"SNDT 1, 'AMAN 0'\")\n",
    "        self.conn.write(\"SNDT 1, 'MOUT \"+str(V)+\"'\") \n",
    "    \n",
    "    def stop(self):\n",
    "        #Stop the PID, no argument\n",
    "        \n",
    "        self.conn.write(\"SNDT 1, 'AMAN 0'\")\n",
    "        \n",
    "    def setup_control(self,setpoint_mode=0, offset=3, p_gain=0.2, i_gain=92):\n",
    "        # setpoint_mode : int defining the setpoint mode (0= internal, 1=external)\n",
    "        # offset : Float defining the offset voltage (in V)\n",
    "        # p_gain : Float defining the p_gain of the PID\n",
    "        # i_gain : Float defining the i_gain of the PID\n",
    "        # Setup all the PID values above before any measurements \n",
    "        \n",
    "        self.conn.write(\"SNDT 1, 'INPT \"+ str(setpoint_mode) +\"'\")\n",
    "        self.conn.write(\"SNDT 1, 'OFST \"+str(offset) + \"'\")\n",
    "        self.conn.write(\"SNDT 1, 'OCTL 1'\")\n",
    "        self.conn.write(\"SNDT 1, 'GAIN \"+str(p_gain)+\"'\")\n",
    "        self.conn.write(\"SNDT 1, 'PCTl 1'\")\n",
    "        self.conn.write(\"SNDT 1, 'ICTL 1'\")\n",
    "        self.conn.write(\"SNDT 1, 'INTG \"+str(i_gain)+\"'\")\n",
    "        \n",
    "    \n",
    "    def control(self,int_set):\n",
    "        # int_set : Float defining the internal setpoint (in V)\n",
    "        # Enable the control by the PID to the setpoint \"int_set\" (in V)\n",
    "        \n",
    "        int_set=int(1000*int_set)/1000\n",
    "        self.conn.write(\"SNDT 1, 'SETP \"+ str(int_set) +\"'\")\n",
    "        self.conn.write(\"SNDT 1, 'AMAN 1'\")\n",
    "    \n",
    "    def get_out (self):\n",
    "        # Get the voltage send by the PID (in V) \n",
    "        \n",
    "        self.conn.write(\"SNDT 1, 'OMON?'\")\n",
    "        try:\n",
    "            a=float(self.conn.query(\"GETN? 1, 120\")[6:-3])\n",
    "        except:\n",
    "            a=self.get_out()\n",
    "        finally:\n",
    "            return(a)     "
   ]
  },
  {
   "cell_type": "markdown",
   "id": "107fa5cd",
   "metadata": {},
   "source": [
    "### FunctionGenerator"
   ]
  },
  {
   "cell_type": "code",
   "execution_count": null,
   "id": "6a958f00",
   "metadata": {
    "ExecuteTime": {
     "end_time": "2023-05-23T17:25:57.177975Z",
     "start_time": "2023-05-23T17:25:57.177975Z"
    },
    "init_cell": true
   },
   "outputs": [],
   "source": [
    "# Define a class for a FunctionGenerator object that can control the FunctionGenerator\n",
    "\n",
    "class FunctionGenerator :\n",
    "    \n",
    "    def __init__(self, path=fgen_visa):\n",
    "        # path : String like pointing to the visa adress of the FunctionGenerator\n",
    "        # Initiate an instance of the FunctionGenerator, use the visa adress \"path\"\n",
    "        \n",
    "        rm = pyvisa.ResourceManager()\n",
    "        self.conn = rm.open_resource(path)\n",
    "        self.dType = self.conn.query('*IDN?')\n",
    "        print (\"Function generator Connecetd : \" +self.dType) #Indicate to the user that the Function Generator is connected\n",
    "            \n",
    "    def set_function_ramp(self,func_channel=2,sym=100,phase=-179,upV=3,lowV=0,freq=100): #create triangle wave\n",
    "        self.conn.write(\"OUTP\"+str(func_channel)+\":LOAD INF\")\n",
    "        self.conn.write(\"SOURce\"+str(func_channel)+\":FUNCtion RAMP\")\n",
    "        self.conn.write(\"SOURce\"+str(func_channel)+\":FUNCtion:RAMP:SYMMetry \"+str(sym))\n",
    "        self.conn.write(\"UNIT:ANGL DEG\")\n",
    "        self.conn.write(\"SOURce\"+str(func_channel)+\":VOLTage:HIGH \"+str(upV))\n",
    "        self.conn.write(\"SOURce\"+str(func_channel)+\":VOLTage:LOW \"+str(lowV))\n",
    "        self.conn.write(\"SOURce\"+str(func_channel)+\":FREQuency \"+str(freq))\n",
    "    \n",
    "    def set_function_DC(self,V,func_channel=2): #create dc wave\n",
    "        self.conn.write(\"OUTP\"+str(func_channel)+\":LOAD INF\")\n",
    "        self.conn.write(\"SOURce\"+str(func_channel)+\":FUNCtion DC\")\n",
    "        self.conn.write(\"SOURce\"+str(func_channel)+\":VOLTage:OFFSet \"+str(V))\n",
    "    \n",
    "    def set_function_square(self,func_channel=1,sym=50,phase=0,upV=0,lowV=-2.4,freq=3e3): #create square wave\n",
    "        self.conn.write(\"OUTP\"+str(func_channel)+\":LOAD INF\")\n",
    "        self.conn.write(\"SOURce\"+str(func_channel)+\":FUNCtion SQUare\")\n",
    "        self.conn.write(\"SOURce\"+str(func_channel)+\":FUNCtion:RAMP:SYMMetry \"+str(sym))\n",
    "        self.conn.write(\"UNIT:ANGL DEG\")\n",
    "        self.conn.write(\"SOURce\"+str(func_channel)+\":VOLTage:HIGH \"+str(upV))\n",
    "        self.conn.write(\"SOURce\"+str(func_channel)+\":VOLTage:LOW \"+str(lowV))\n",
    "        self.conn.write(\"SOURce\"+str(func_channel)+\":FREQuency \"+str(freq))\n",
    "    \n",
    "    def set_function_sin(self,func_channel=1,phase=0,upV=0,lowV=-2.4,freq=3e3): #create sin wave\n",
    "        self.conn.write(\"OUTP\"+str(func_channel)+\":LOAD INF\")\n",
    "        self.conn.write(\"SOURce\"+str(func_channel)+\":FUNCtion SIN\")\n",
    "        self.conn.write(\"UNIT:ANGL DEG\")\n",
    "        self.conn.write(\"SOURce\"+str(func_channel)+\":VOLTage:HIGH \"+str(upV))\n",
    "        self.conn.write(\"SOURce\"+str(func_channel)+\":VOLTage:LOW \"+str(lowV))\n",
    "        self.conn.write(\"SOURce\"+str(func_channel)+\":FREQuency \"+str(freq))\n",
    "    \n",
    "    def stop(self,func_channel=2):\n",
    "        # func_channel : int indicating the channel which we want to stop\n",
    "        # Stop the channel \"func_channel\"\n",
    "        \n",
    "        self.conn.write(\"OUTPut\"+str(func_channel)+\" OFF\")\n",
    "    \n",
    "    def start(self,func_channel=2):\n",
    "        # func_channel : int indicating the channel which we want to stop\n",
    "        # Start the channel \"func_channel\"\n",
    "        \n",
    "        self.conn.write(\"OUTPut\"+str(func_channel)+\" ON\")"
   ]
  },
  {
   "cell_type": "markdown",
   "id": "bb0d255d",
   "metadata": {},
   "source": [
    "### Oscilloscope"
   ]
  },
  {
   "cell_type": "code",
   "execution_count": null,
   "id": "85fe4d25",
   "metadata": {
    "ExecuteTime": {
     "end_time": "2023-05-23T17:25:57.178950Z",
     "start_time": "2023-05-23T17:25:57.178950Z"
    },
    "init_cell": true
   },
   "outputs": [],
   "source": [
    "# Define a class for a oscilloscope object that can control the oscilloscope\n",
    "\n",
    "class Oscilloscope:\n",
    "    \n",
    "    def __init__(self, path=osc_visa):\n",
    "        # path : String like pointing to the visa adress of the Oscilloscope\n",
    "        # Initiate an instance of the Oscilloscope, use the visa adress \"path\"\n",
    "        \n",
    "        scope=win32com.client.Dispatch(\"LeCroy.ActiveDSOCtrl.1\") \n",
    "        scope.MakeConnection(path)\n",
    "        if scope.WriteString('*IDN?',True):\n",
    "            print(\"Oscilloscope connected : \" +scope.ReadString(500)) #Indicate to the user that the Function Generator is connected\n",
    "        self.conn=scope\n",
    "    \n",
    "    def acquire(self,channel):\n",
    "        # channel : Int indicating the channel of the oscilloscope we want to acquire\n",
    "        # Acquire the channel \"channel\" of the oscilloscope\n",
    "        # Return two arrays, the first contating the time value (in s) and the second containing the voltage value of the channel (in V)\n",
    "        \n",
    "        chan='C'+str(channel)\n",
    "        wav=self.conn.GetScaledWaveformWithTimes(chan,999999,True)\n",
    "        wav=np.array(wav)\n",
    "        return(wav)\n",
    "        tim=[]\n",
    "        amp=[]\n",
    "        for k in range (len(wav[1])):\n",
    "            tim.append(wav[0][k])\n",
    "            amp.append(wav[1][k])\n",
    "        return(tim,amp) \n",
    "    \n",
    "    def set_time(self,dT,data_points=nbr_data_points):\n",
    "        # dT : Float, Time period of one division of the oscilloscope (in S)\n",
    "        # data_points : Int, Number of total Data Points of the oscilloscope\n",
    "        # Set the the time period of one division to dT and the total number of points to data_points\n",
    "        # Return the time period between two consecutive points of the oscilloscope\n",
    "        \n",
    "        self.conn.WriteString(\"SCLK ECL,\"+str(nbr_data_points),True)\n",
    "        self.conn.WriteString('TIME_DIV ' + str(dT),True)\n",
    "        return (dT*10/data_points)\n",
    "    \n",
    "    def set_memory(self,N):\n",
    "          \n",
    "        # Memory: Int, Number of memory can be used for data acquisition\n",
    "        # N: Increase the memory by ratio N. \n",
    "        # Possible memory size: 500, 1000, 2500, 5000, 10k, 25k, 50k, 100k, 250k, 500k, 1M, 2.5M, 5M, 10M, 25M\n",
    "        # Changing the timescale would not automatically increase the memory size, we might have chances to lose resolution of bitstream if we increase the bit by simply increasing the time scale   \n",
    "        \n",
    "        self.conn.WriteString(\"Memory_SIZe?\", True)\n",
    "        current_memory_string=o.conn.ReadString(500) # get current memory size as a string\n",
    "        self.conn.WriteString(\"Time_DIV?\", True) \n",
    "        current_time_div_string=o.conn.ReadString(500).split()[1] # get current time division as a string\n",
    "        current_time_div_num=float(current_time_div_string)\n",
    "        current_memory_int=0\n",
    "        txt=current_memory_string.split()[1] # current_memory_string is given as 10k, 1M. Therefore, we have to separate 10 and k, 1 and M to get numerical value\n",
    "        emp_str=\"\"\n",
    "        for m in txt:\n",
    "            if m.isdigit():\n",
    "                emp_str+=m # get only numbers, not letters\n",
    "        if txt != \"2.5M\": # we separate the case of 2.5M, since this is the only case that includes \"point\" in the string\n",
    "            if txt.find(\"K\")!=-1: # returns -1 when there is no specific letter\n",
    "                current_memory_int=int(float(emp_str))*1000\n",
    "            elif txt.find(\"M\")!=-1:\n",
    "                current_memory_int=(float(emp_str))*1000000\n",
    "            else:\n",
    "                current_memory_int=int(float(emp_str))\n",
    "        else:\n",
    "            current_memory_int=2500000\n",
    "        \n",
    "        sampling_rate=current_memory_int/current_time_div_num\n",
    "        update_time=current_time_div_num*N\n",
    "        update_memory=sampling_rate*update_time\n",
    "        temp=\"MSIZ \"\n",
    "        self.conn.WriteString(temp+str(update_memory),True) #e.g. MSIZ 1000\n",
    "        self.conn.WriteString('TIME_DIV ' + str(update_time),True)"
   ]
  },
  {
   "cell_type": "markdown",
   "id": "d3d06af9",
   "metadata": {},
   "source": [
    "### Laser"
   ]
  },
  {
   "cell_type": "code",
   "execution_count": 8,
   "id": "202f5ada",
   "metadata": {
    "ExecuteTime": {
     "end_time": "2023-05-19T19:45:48.522235Z",
     "start_time": "2023-05-19T19:45:48.489078Z"
    },
    "scrolled": true
   },
   "outputs": [
    {
     "name": "stdout",
     "output_type": "stream",
     "text": [
      "=== Connected Device ===\n",
      "This is a FFultra780 with serial number FFultra780_01059.\n",
      "\n"
     ]
    }
   ],
   "source": [
    "# Connect the Toptica laser \n",
    "\n",
    "with toptica.lasersdk.client.Client(toptica.lasersdk.client.NetworkConnection('your_laser_network')) as client:\n",
    "        print(\"=== Connected Device ===\")\n",
    "        print(\"This is a {} with serial number {}.\\n\".format(client.get('system-type'), client.get('serial-number')))\n",
    "        #client.exec('system-service-report:service-report', output_type=bytes)"
   ]
  },
  {
   "cell_type": "markdown",
   "id": "fc777ac9",
   "metadata": {},
   "source": [
    "### Motion Controller"
   ]
  },
  {
   "cell_type": "code",
   "execution_count": null,
   "id": "aea5b5b5",
   "metadata": {
    "ExecuteTime": {
     "end_time": "2023-05-23T17:25:57.179926Z",
     "start_time": "2023-05-23T17:25:57.179926Z"
    },
    "init_cell": true
   },
   "outputs": [],
   "source": [
    "# Define a class for a MotionController object that can control the Rotation Stage of the green filter\n",
    "\n",
    "class MotionController:\n",
    "    \n",
    "    def __init__(self, path=MotionControll_visa):\n",
    "        # path : String like pointing to the visa adress of the MotionController\n",
    "        # Initiate an instance of the MotionController, use the visa address \"path\"\n",
    "        \n",
    "        rm = pyvisa.ResourceManager()\n",
    "        self.conn = rm.open_resource(path)\n",
    "        try :\n",
    "            self.conn.query(\"1MD?\")\n",
    "            print(\"Motion Controller Connected\")  # Indicate to the user that the Function Generator is connected\n",
    "        except:\n",
    "            pass\n",
    "     \n",
    "        \n",
    "    def moveto(self,angle):\n",
    "        # angle : Float, angle to be moved at (degree)\n",
    "        # Move the MotionController to the absolute angle \"angle\", stop the workflow while not finished\n",
    "        \n",
    "        self.conn.write(\"1PA+\"+str(angle))\n",
    "        while self.conn.query(\"1MD?\")[0]=='0':\n",
    "            pass\n",
    "    \n",
    "    def moveby(self,angle):\n",
    "        # angle : Float, angle to be moved by (degree)\n",
    "        # Move the MotionController by the angle \"angle\", stop the workflow while not finished\n",
    "        \n",
    "        self.conn.write(\"1PR+\"+str(angle))\n",
    "        while self.conn.query(\"1MD?\")[0]=='0':\n",
    "            pass"
   ]
  },
  {
   "cell_type": "markdown",
   "id": "6e75885d",
   "metadata": {},
   "source": [
    "### Rotation Stage"
   ]
  },
  {
   "cell_type": "code",
   "execution_count": null,
   "id": "a0d8152d",
   "metadata": {
    "ExecuteTime": {
     "end_time": "2023-05-23T17:25:57.180902Z",
     "start_time": "2023-05-23T17:25:57.180902Z"
    },
    "init_cell": true
   },
   "outputs": [],
   "source": [
    "# Define a class for a RotationStage object that can control the Rotation Stage of the Waveplate in front of the bias\n",
    "\n",
    "class RotationStage:\n",
    "    \n",
    "    def __init__(self):\n",
    "        # path : String like pointing to the visa adress of the RotationStage\n",
    "        # Initiate an instance of the RotationStage, use the visa adress \"path\"\n",
    "        \n",
    "        try:\n",
    "            motor = thorlabs_apt.Motor(thorlabs_apt.list_available_devices()[0][1])\n",
    "            motor.enable()\n",
    "            motor.move_home(blocking=True)\n",
    "            motor.set_stage_axis_info(0,100.0,2,0.5)\n",
    "            print(\"Motion Controller Connected\")\n",
    "            self.conn=motor\n",
    "        except:\n",
    "            pass\n",
    "     \n",
    "        \n",
    "    def moveto(self,angle):\n",
    "        # angle : Float, angle to be moved at (degree)\n",
    "        # Move the MotionController to the absolute angle \"angle\", stop the workflow while not finished\n",
    "        \n",
    "        pos=(angle/36)%10.0\n",
    "        self.conn.move_to(pos,blocking=True)\n",
    "            \n",
    "    def moveby(self,angle):\n",
    "        # angle : Float, angle to be moved by (degree)\n",
    "        # Move the MotionController by the angle \"angle\", stop the workflow while not finished\n",
    "        \n",
    "        pos=(angle/36)%10.0\n",
    "        self.conn.move_by(pos,blocking=True)"
   ]
  },
  {
   "cell_type": "markdown",
   "id": "8d049643",
   "metadata": {},
   "source": [
    "# Connectivity check"
   ]
  },
  {
   "cell_type": "markdown",
   "id": "e902013c",
   "metadata": {},
   "source": [
    "### Following functions are used to check whether electronic devices are connected properly or not"
   ]
  },
  {
   "cell_type": "code",
   "execution_count": null,
   "id": "a9289ad7",
   "metadata": {
    "ExecuteTime": {
     "end_time": "2023-05-23T17:25:57.180902Z",
     "start_time": "2023-05-23T17:25:57.180902Z"
    },
    "init_cell": true
   },
   "outputs": [],
   "source": [
    "# Try to create an instance of all the previously defined electric devices, no input needed.\n",
    "# Use the variables m,o,p,f,r,pm for : the MotionController, the Oscilloscope, the PID, the FunctionGenerator, RotationStage, and the Piezo Motor Stage\n",
    "# Instances returned to be used later\n",
    "\n",
    "\n",
    "def ConnectAll():\n",
    "    m,o,p,f,r,pm=None,None,None,None,None,None #Initiate the value if no connection is found\n",
    "    try:\n",
    "        m=MotionController()  # Connect the Motion Controller \n",
    "    finally:\n",
    "        try:\n",
    "            o=Oscilloscope() # Connect the Oscilloscpe\n",
    "        finally:\n",
    "            try:\n",
    "                p=PID() # Connect the PID \n",
    "            finally:\n",
    "                try:\n",
    "                    f=FunctionGenerator() # Connect the Function Generator\n",
    "                finally:\n",
    "                    try:\n",
    "                        r=RotationStage() # Connect the Rotation Stage\n",
    "                    finally:\n",
    "                        try:\n",
    "                            pm=pylablib.devices.Thorlabs.kinesis.KinesisPiezoMotor(\"your_part_number\",default_channel=1) # Connect the Piezo Motor Stage\n",
    "                        finally:\n",
    "                            return (m,o,p,f,r,pm)"
   ]
  },
  {
   "cell_type": "code",
   "execution_count": null,
   "id": "c1ec076f",
   "metadata": {
    "ExecuteTime": {
     "end_time": "2023-05-23T17:25:57.181878Z",
     "start_time": "2023-05-23T17:25:57.181878Z"
    },
    "init_cell": true
   },
   "outputs": [],
   "source": [
    "# Print which visa objects are connected to the computer\n",
    "# Useful to check which device is connected in case of missfunction\n",
    "\n",
    "def WhatConnected():\n",
    "    rm=pyvisa.ResourceManager() #Access to connected visa\n",
    "    print(rm.list_resources())"
   ]
  },
  {
   "cell_type": "markdown",
   "id": "f3b421c2",
   "metadata": {},
   "source": [
    "# Finding OPO modes"
   ]
  },
  {
   "cell_type": "markdown",
   "id": "8a54e2ef",
   "metadata": {},
   "source": [
    "To find the proper OPO mode, we apply triangular voltage to the piezo attached to one of the mirrors forming the cavity. The following functions are used to determine the peak of the initial sweep and then get their variances. Therefore, one can guess which voltage should be used to lock on a mode."
   ]
  },
  {
   "cell_type": "markdown",
   "id": "e0ff94fa",
   "metadata": {},
   "source": [
    "### Basic functions"
   ]
  },
  {
   "cell_type": "code",
   "execution_count": null,
   "id": "27c2a2e7",
   "metadata": {
    "ExecuteTime": {
     "end_time": "2023-05-23T17:25:57.182854Z",
     "start_time": "2023-05-23T17:25:57.182854Z"
    },
    "init_cell": true
   },
   "outputs": [],
   "source": [
    "# L: Float List, List of time for which one want the triangle signal to be constructed (in s) \n",
    "# V: Float, Max value of the signal - Min Value of the signal (in V)\n",
    "# off: Float, Offset of the signal (in V)\n",
    "# phase: Float, shift at the origin of the signal (in s)\n",
    "# freq : Float, Frequency of the signal\n",
    "# Create a triangle signal for the time in L, with every parameters above\n",
    "# Return a Float List containing the signal\n",
    "\n",
    "def triangle(L,V,off,phase,freq):\n",
    "    y=[]\n",
    "    for x in L:\n",
    "        x=abs(x+phase)%freq\n",
    "        if x>freq/2:\n",
    "            y.append(off+V-2*V*(x-freq/2)/freq)\n",
    "        else:\n",
    "            y.append(off+2*V*x/freq)\n",
    "    return(y)"
   ]
  },
  {
   "cell_type": "code",
   "execution_count": null,
   "id": "c8df0007",
   "metadata": {
    "ExecuteTime": {
     "end_time": "2023-05-23T17:25:57.183830Z",
     "start_time": "2023-05-23T17:25:57.183830Z"
    },
    "init_cell": true
   },
   "outputs": [],
   "source": [
    "# x : Float, x value of the gaussian \n",
    "# sigma : Float, std of the gaussian\n",
    "# Return a Float value of a gaussian function of std \"sigma\" evaluated in \"x\"\n",
    "\n",
    "def gauss(x, sigma):\n",
    "    return np.exp(- x** 2 / (2 * sigma ** 2))"
   ]
  },
  {
   "cell_type": "markdown",
   "id": "4baf7d49",
   "metadata": {},
   "source": [
    "### Processing triangular sweep"
   ]
  },
  {
   "cell_type": "code",
   "execution_count": null,
   "id": "f80ede75",
   "metadata": {
    "ExecuteTime": {
     "end_time": "2023-05-23T17:25:57.184806Z",
     "start_time": "2023-05-23T17:25:57.184806Z"
    },
    "init_cell": true
   },
   "outputs": [],
   "source": [
    "#lis : Float List, Triangle Signal to process\n",
    "# Use a gaussian filter to convolve the signal and smooth it to erase noise then get all the peaks of the triangle\n",
    "# Goal is to get the different sweeps to seperate the signal\n",
    "# Return the peaks list\n",
    "\n",
    "def ProcessTriangle(lis):\n",
    "    sigma=len(lis)/50000   # std of the gaussian filter (fudge factor)\n",
    "    lisgaus=[gauss(k/100-5*sigma,sigma) for k in range(int(1000*sigma))] #Gaussian List\n",
    "    lis2=scipy.signal.convolve(lis,lisgaus) # Convolved list\n",
    "    off=int((len(lisgaus)-1)/2) # Shift of the convolved list\n",
    "    l3=[lis2[k+off] for k in range(len(lis2)-2*off)]  # Smoothed list (offset taken into account)\n",
    "    p=list(scipy.signal.find_peaks(l3)[0]) # Up Peaks List\n",
    "    p2=scipy.signal.find_peaks(-1*np.array(l3))[0] # Down Peaks List\n",
    "    p.extend(p2) # Combination of both lists\n",
    "    p.sort()\n",
    "    return(p)  # Total Peaks"
   ]
  },
  {
   "cell_type": "code",
   "execution_count": null,
   "id": "4bcb7791",
   "metadata": {
    "ExecuteTime": {
     "end_time": "2023-05-23T17:25:57.184806Z",
     "start_time": "2023-05-23T17:25:57.184806Z"
    },
    "init_cell": true
   },
   "outputs": [],
   "source": [
    "# lis: Float list, Triangle signal to be processed\n",
    "# This Function smooth the triangle to erase noise (like previous function)\n",
    "# Exact same process as the previous function but return the smoothen triangle rather than the peaks\n",
    "\n",
    "def smooth_triangle(lis):\n",
    "    sigma=len(lis)/50000\n",
    "    lisgaus=[gauss(k/100-5*sigma,sigma) for k in range(int(1000*sigma))]\n",
    "    lis2=scipy.signal.convolve(lis,lisgaus)\n",
    "    off=int((len(lisgaus)-1)/2)\n",
    "    l3=np.array([lis2[k+off] for k in range(len(lis2)-2*off)])\n",
    "    l3*=np.mean(lis)/np.mean(l3)\n",
    "    return(l3)"
   ]
  },
  {
   "cell_type": "code",
   "execution_count": null,
   "id": "38eb2cdf",
   "metadata": {
    "ExecuteTime": {
     "end_time": "2023-05-23T17:25:57.185782Z",
     "start_time": "2023-05-23T17:25:57.185782Z"
    },
    "init_cell": true
   },
   "outputs": [],
   "source": [
    "# lis : Float lis to be filtered\n",
    "# filt : Float used to filter the list\n",
    "# This function try to erase noise from a signal. It get a list lis and remove all the elements that are lower than\n",
    "# \"mean + filtr*sqrt(var)\". All the values of those elements are set to the mean.\n",
    "# We return the filtered list\n",
    "\n",
    "def filtr(lis,filt):\n",
    "    l2=deepcopy(lis)\n",
    "    m=np.mean(l2)\n",
    "    v=np.sqrt(np.var(l2))\n",
    "    for k in range(len(l2)):\n",
    "        if l2[k]<m+filt*v: # Conditiion to erase noise\n",
    "            l2[k]=m #Set noise to the mean\n",
    "    return (l2)"
   ]
  },
  {
   "cell_type": "code",
   "execution_count": null,
   "id": "21adb845",
   "metadata": {
    "ExecuteTime": {
     "end_time": "2023-05-23T17:25:57.186758Z",
     "start_time": "2023-05-23T17:25:57.186758Z"
    },
    "init_cell": true
   },
   "outputs": [],
   "source": [
    "# lis : Float lis to be filtered\n",
    "# filt : Float used to filter the list\n",
    "# This function filter the list with the previous function and then use a gaussian filter \n",
    "# to convolve the signal and smooth it.\n",
    "# We return an array of the peaks of l3\n",
    "\n",
    "def Smooth(lis,filt):\n",
    "    sigma=len(lis)/500000 # std of the gaussian filter (fudge factor)\n",
    "    lisgaus=[gauss(k/100-5*sigma,sigma) for k in range(int(1000*sigma))] # Gaussian List\n",
    "    lis2=filtr(lis,filt) # Filtered list\n",
    "    lis2=scipy.signal.convolve(lis2,lisgaus)  # Convolved list\n",
    "    off=int((len(lisgaus)-1)/2) # Offset of convolution\n",
    "    l3=[lis2[k+off] for k in range(len(lis2)-2*off)] # Smoothed list (offset taken into account)\n",
    "    return(l3)"
   ]
  },
  {
   "cell_type": "markdown",
   "id": "3f807f7a",
   "metadata": {},
   "source": [
    "### Detect peaks from smoothed triangular wave"
   ]
  },
  {
   "cell_type": "code",
   "execution_count": null,
   "id": "21d7a859",
   "metadata": {
    "ExecuteTime": {
     "end_time": "2023-05-23T17:25:57.187734Z",
     "start_time": "2023-05-23T17:25:57.187734Z"
    },
    "init_cell": true
   },
   "outputs": [],
   "source": [
    "# lis : Float list, orginal signal \n",
    "# l3 : Float list, result of the previous function used with lis\n",
    "# This function get the peaks of lis. First we get a region for those peaks based on the peaks of the smoothed peaks l3\n",
    "# Then we check the maxima in thoses region and get the peaks from that.\n",
    "# We return an array of all the peaks \n",
    "\n",
    "\n",
    "def PeaksfromSmoothed(lis,l3):\n",
    "    m=min(l3[int(len(l3)/4):int(3*len(l3)/4)]) # Minimum of the smoothed list l3 (without taking account of artifact from convolution)\n",
    "    p=scipy.signal.find_peaks(l3)[0] # Peaks of l3\n",
    "    zones=[] # list containing different maxima zones\n",
    "    for j in p:\n",
    "        if l3[j]-m>0: # Check if the peaks are above the mean, if not, it is not a good peak\n",
    "            z1=0\n",
    "            z2=len(l3)\n",
    "            for k in range(j): \n",
    "                if l3[j-k]-m<(l3[j]-m)/2: # Create a zone at the left middle of the gaussian\n",
    "                    z1=j-k\n",
    "                    break  \n",
    "            for k in range(len(l3)-j):\n",
    "                if l3[j+k]-m<(l3[j]-m)/2:  # Create a zone at the right middle of the gaussian\n",
    "                    z2=j+k\n",
    "                    break\n",
    "            if z1!=0 and z2!=len(l3): # Check if we found the middle of gaussian, else, this was not a peak but a edge\n",
    "                zones.append([z1,z2]) \n",
    "    Maxes=[]\n",
    "    for k in zones:\n",
    "        z1,z2=k\n",
    "        Maxes.append(np.argmax(lis[z1:z2])+z1) #Take the maxima of lis in each zone as the peak \n",
    "    return(Maxes)"
   ]
  },
  {
   "cell_type": "code",
   "execution_count": null,
   "id": "d7ce493d",
   "metadata": {
    "ExecuteTime": {
     "end_time": "2023-05-23T17:25:57.187734Z",
     "start_time": "2023-05-23T17:25:57.187734Z"
    },
    "init_cell": true
   },
   "outputs": [],
   "source": [
    "# peaks : Float list, list of the differents peaks of the main signal\n",
    "# separator : Float list, list of the peaks of the triangle signal\n",
    "# This function will separate the peaks according to the triangle sweep.\n",
    "# It will retrun a 2D array, the first dimension being the number of the sweep \n",
    "# we are looking at and the second being the peaks for this sweep\n",
    "\n",
    "\n",
    "def SeparatePeaks(peaks,separator):\n",
    "    PeaksSeparated=[[] for  k in range(len(separator)+1)] # 2D Array that will contains the list \n",
    "    for k in range(len(peaks)):\n",
    "        so=list(separator.copy())\n",
    "        so.append(peaks[k])\n",
    "        so.sort() # We check where the peaks is compared to the peaks of the triangle signal\n",
    "        i=so.index(peaks[k])\n",
    "        PeaksSeparated[i].append(peaks[k]) # We append the list at the number of the sweep\n",
    "    return(PeaksSeparated)"
   ]
  },
  {
   "cell_type": "code",
   "execution_count": null,
   "id": "f6ba2e15",
   "metadata": {
    "ExecuteTime": {
     "end_time": "2023-05-23T17:25:57.188709Z",
     "start_time": "2023-05-23T17:25:57.188709Z"
    },
    "init_cell": true
   },
   "outputs": [],
   "source": [
    "# lis : Float list, signal to find peak of\n",
    "# fg : Float list, this is the function generator signal, equivalent to separator in the previous function\n",
    "# filt : Float, filter to apply to lis, same as in the function \"filtr\"\n",
    "# trace : Bool, true if you want to trace the signal + the peaks found by the programm\n",
    "# It will return a 2D array, the first dimension being the number of the sweep \n",
    "# we are looking at and the second being the peaks for this sweep\n",
    "# This function use all the previous function to find the peaks of a signal with a set factor to filter filt\n",
    "\n",
    "\n",
    "def FindPeak (lis,fg,filt=3,trace=False):\n",
    "    l3=Smooth(lis,filt)  # Erase Noise\n",
    "    Maxes=PeaksfromSmoothed(lis,l3) # Get Peaks\n",
    "    Separation=ProcessTriangle(fg)[:-1] #Get the smoothed triangle signal\n",
    "    PeaksSeparated=SeparatePeaks(Maxes,Separation) #Separate the peaks according to the sweep\n",
    "    if trace:  # This subsection just trace the plot if you want to see where the peaks are\n",
    "        m=np.mean(lis)\n",
    "        Ml=[m for k in lis]\n",
    "        for k in Maxes:\n",
    "            Ml[k]=lis[k]\n",
    "        plt.figure()\n",
    "        plt.plot(lis)\n",
    "        plt.plot(Ml)\n",
    "    for k in range(len(PeaksSeparated)): # This subsection remove the duplicates\n",
    "        new_list = [] \n",
    "        for i in PeaksSeparated[k] : \n",
    "            if i not in new_list:  # Test wether the same peaks are counted twice\n",
    "                new_list.append(i)\n",
    "        PeaksSeparated[k]=new_list\n",
    "    return(PeaksSeparated)"
   ]
  },
  {
   "cell_type": "code",
   "execution_count": null,
   "id": "95643466",
   "metadata": {
    "ExecuteTime": {
     "end_time": "2023-05-23T17:25:57.189686Z",
     "start_time": "2023-05-23T17:25:57.189686Z"
    },
    "init_cell": true
   },
   "outputs": [],
   "source": [
    "# lis : Float list, signal to find peak of\n",
    "# fg : Float list, this is the function generator signal\n",
    "# It will return a 2D array, the first dimension being the number of the sweep \n",
    "# we are looking at the second being the peaks for this sweep\n",
    "# This function is the final function we use for peak finding. Contrary to the previous one, we do not set manually the \n",
    "# factor for filtering the signal. It is chosen to be the one for which we have at least 60% of the sweeps that have \n",
    "# the same number of detected modes\n",
    "# This is to assure that the the factor is choosed in a good spot for which most parasitic sweeps are removed but we still \n",
    "# got the modes we are looking for.\n",
    "# It is really important to have the same number in each sweep to get the statisitic of each height.\n",
    "# Furthermore, we make a difference between the increasing and decreasing sweeps. At the end, we chosse to conserve only\n",
    "# one of the two based on the number of modes detected and the proportion of sweeps with the same number of modes.\n",
    "\n",
    "def DefinitiveFindPeak(lis,fg):\n",
    "    \n",
    "    def toOpt(m): # function that calculate the proportion of sweeps with the same number of mode and this number for an input filter factor m\n",
    "        p=FindPeak(lis,fg,filt=m,trace=False) # Find Peak with a filter m\n",
    "        taille=[len(p[2*k+1]) for k in range(int(len(p)/2))] # This function do that for the increasing sweeps\n",
    "        taille=taille[1:]\n",
    "        a,b=Counter(taille).most_common(1)[0] # Calculate the number of sweeps with the most common number of modes detected and that said number\n",
    "        return(b/len(taille),a) # return the proportion and the number of modes\n",
    "\n",
    "    def toOpt2(m): # Do the exact same thing as \"toopt\" but for the decreasing sweeps\n",
    "        p=FindPeak(lis,fg,filt=m,trace=False)\n",
    "        taille=[len(p[2*k]) for k in range(int(len(p)/2))]\n",
    "        taille=taille[1:]\n",
    "        a,b=Counter(taille).most_common(1)[0]\n",
    "        return(b/len(taille),a)\n",
    "    \n",
    "    # Calculate the minimal filter for which at least one mode is detected and 60% (fudge factor) of the sweeps have the same number of modes\n",
    "    j=0\n",
    "    a_odd=1\n",
    "    b_odd=0\n",
    "    while a_odd>0 and b_odd<0.6:\n",
    "        b_odd,a_odd=toOpt(j/5) # Done for increasing sweeps\n",
    "        j+=1\n",
    "    filt_odd=(j-1)/5 # Get the filter factor for which this condition is achieved\n",
    "    \n",
    "     # Calculate the minimal filter for which at least one mode is detected and 60% (fudge factor) of the sweeps have the same number of modes\n",
    "    j=0\n",
    "    a_even=1\n",
    "    b_even=0\n",
    "    while a_even>0 and b_even<0.6:\n",
    "        b_even,a_even=toOpt2(j/5) # Done for decreasing sweeps\n",
    "        j+=1\n",
    "    filt_even=(j-1)/5 # Get the filter factor for which this condition is achieved\n",
    "    \n",
    "    \n",
    "    # This subsection decide whether we should consider the increasing or the decreasing sweeps\n",
    "    decision=filt_odd>filt_even #if the filter is lower in one case we choose that because that means that the signal is less noisy\n",
    "    if filt_even==filt_odd: \n",
    "        decision=b_odd<b_even # if they are the same, we choose the highest proportion\n",
    "        if b_odd==b_even:\n",
    "            decision=a_odd<a_even # if they are the same, we choose the higher number of detected modes\n",
    "            \n",
    "    if decision:\n",
    "        peaks=FindPeak(lis,fg,filt=filt_even,trace=False) #choose the good filter factor\n",
    "        peaks=[peaks[2*k] for k in range(1,int(len(peaks)/2))] # Return the peaks for the increasing sweeps\n",
    "    else:\n",
    "        peaks=FindPeak(lis,fg,filt=filt_odd,trace=False) #choose the good filter factor\n",
    "        peaks=[peaks[2*k+1] for k in range(1,int(len(peaks)/2))] # Return the peaks for the decreasing sweeps\n",
    "        \n",
    "    return(peaks)   "
   ]
  },
  {
   "cell_type": "code",
   "execution_count": null,
   "id": "3cade26b",
   "metadata": {
    "ExecuteTime": {
     "end_time": "2023-05-23T17:25:57.190662Z",
     "start_time": "2023-05-23T17:25:57.190662Z"
    },
    "init_cell": true
   },
   "outputs": [],
   "source": [
    "# lis : Float list, signal to find peak of\n",
    "# fg : Float list, this is the function generator signal\n",
    "# green : Float list, this is the green parasitic signal\n",
    "# Return the evolution of the height of each peak, the mean of the triangle voltage associated to the peaks\n",
    "# the mean of the green signal for this voltage\n",
    "# and the index telling which sweeps have the good number of modes detected.\n",
    "\n",
    "def HeightPerModes(lis,fg,green):\n",
    "    PS=DefinitiveFindPeak(lis,fg) # Find the peaks of lis\n",
    "    PS=PS[1:-1]\n",
    "    idx=[]\n",
    "    t=Counter([len(p) for p in PS ]).most_common(1)[0][0] # Most common number of modes found during the sweep\n",
    "    for p in PS:\n",
    "        if len(p)==t:\n",
    "            idx.append(p)     # Keep only the sweeps for which the same number of modes was detected\n",
    "    HoM=[[lis[p[l]] for p in idx] for l in range(len(idx[0]))] # Height evolution of each modes\n",
    "    VoM=[np.mean([smooth_triangle(fg)[p[l]] for p in idx]) for l in range(len(idx[0]))] # Mean of the triangle voltage for each mode\n",
    "    HoG=[np.mean([green[p[l]] for p in idx]) for l in range(len(idx[0]))] # Mean of the height of the green for each peaks\n",
    "    return(HoM,VoM,HoG,idx)"
   ]
  },
  {
   "cell_type": "code",
   "execution_count": null,
   "id": "83695664",
   "metadata": {
    "ExecuteTime": {
     "end_time": "2023-05-23T17:25:57.190662Z",
     "start_time": "2023-05-23T17:25:57.190662Z"
    },
    "init_cell": true
   },
   "outputs": [],
   "source": [
    "# H : Float list, Height evolution of each mode\n",
    "# This function return the variance of each mode divided by its mean\n",
    "\n",
    "def StatHeight(H):\n",
    "    return([np.sqrt(np.var(h))/np.mean(h) for h in H]) # variance of the height of each modes divided by its mean"
   ]
  },
  {
   "cell_type": "markdown",
   "id": "a56ade76",
   "metadata": {},
   "source": [
    "# Converting OPO signal to bitstream"
   ]
  },
  {
   "cell_type": "markdown",
   "id": "4ebf3268",
   "metadata": {},
   "source": [
    "Once the proper opo mode is found, the opo signal passes the homodyne system and reaches at the photodiode. This section explains the code that is used to 1) convert opo signal to bitstream and 2) measure the probability of the bitstream and do simple statistical analysis to determine whether the bitstream is random or not."
   ]
  },
  {
   "cell_type": "code",
   "execution_count": null,
   "id": "2b2c4939",
   "metadata": {
    "ExecuteTime": {
     "end_time": "2023-05-23T17:25:57.191637Z",
     "start_time": "2023-05-23T17:25:57.191637Z"
    },
    "init_cell": true
   },
   "outputs": [],
   "source": [
    "# movmean function, get the mean value of lis for given range of N\n",
    "def movmean(lis,N):\n",
    "    lis2=np.zeros_like(lis)\n",
    "    for k in range(len(lis)):\n",
    "        lis2[k]=np.mean(lis[max(int(k-(N-1)/2),0):min(int(k+(N+1)/2),len(lis))]) \n",
    "    return lis2"
   ]
  },
  {
   "cell_type": "code",
   "execution_count": null,
   "id": "9028900f",
   "metadata": {
    "ExecuteTime": {
     "end_time": "2023-05-23T17:25:57.192614Z",
     "start_time": "2023-05-23T17:25:57.192614Z"
    },
    "init_cell": true
   },
   "outputs": [],
   "source": [
    "# Principal function to read the OPO signal and convert it the bitstream of 0 and 1\n",
    "# t : Float list, time signal from the oscilloscope\n",
    "# sig : Float list, OPO signal from the oscilloscope\n",
    "# mod : Float list, Modulation signal\n",
    "# Return the bit stream and if the sequence passes the naive test\n",
    "\n",
    "def BitStream(t, sig, mod, draw_flag, modulation_up_through_flag = False, moving_mean_flag = False, contrast_adjust = True):\n",
    "    ''' modulation_up_through_flag is True when the max of the modulation corresponds to the laser signal going through '''\n",
    "    if not(modulation_up_through_flag): #whether the positive edge of the modulation signal builds up the opo signal or not.\n",
    "        mod = - mod\n",
    "    ndata = len(t)\n",
    "    \n",
    "    ##simple fft and filtering the signal. Variables such as filter_order and MinPeakDistane may change depending on the quality of the signal\n",
    "    T = t[2]-t[1]\n",
    "    Fs = 1/T\n",
    "    f = np.linspace(-Fs/2,Fs/2,num=ndata)\n",
    "    fftvec = np.abs(np.fft.fftshift(np.fft.fft(sig-np.mean(sig))))\n",
    "    ModFreq = abs(f[np.argmax(fftvec)])\n",
    "    MinPeakDistance0 = int(1/ModFreq/T)\n",
    "    MinPeakDistance = 0.75*MinPeakDistance0\n",
    "    filter_order = 5\n",
    "    if int(MinPeakDistance/10)%2==0:\n",
    "        window_length = max(int(MinPeakDistance/10) +1, filter_order+2)\n",
    "    else:\n",
    "        window_length = max(int(MinPeakDistance/10), filter_order+2)\n",
    "    y=scipy.signal.savgol_filter(sig,window_length,filter_order)\n",
    "    ymod=scipy.signal.savgol_filter(mod,window_length,filter_order)\n",
    "    \n",
    "    #find min max value of modulation signal. Peak prominence may change depending on the quality of the signal\n",
    "    max_value = np.max(np.diff(ymod[int(ndata/10):9*int(ndata/10)]))\n",
    "    min_value = np.min(np.diff(ymod[int(ndata/10):9*int(ndata/10)]))\n",
    "    peak_prominence = 0.4\n",
    "    mod_up_t = scipy.signal.find_peaks(np.diff(ymod), height=peak_prominence * max_value, distance=MinPeakDistance)[0]\n",
    "    mod_down_t = scipy.signal.find_peaks(np.diff(-ymod), height=-peak_prominence * min_value, distance=MinPeakDistance)[0]\n",
    "    offset = int(np.mean(np.diff(mod_up_t))/10);\n",
    "    if mod_up_t[0] > mod_down_t[0]:\n",
    "        order = 1\n",
    "    else:\n",
    "        order = 0\n",
    "    mm,modu,modu_std,xx=[0 for k in range(min(len(mod_up_t), len(mod_down_t))-1)],[0 for k in range(min(len(mod_up_t), len(mod_down_t))-1)],[0 for k in range(min(len(mod_up_t), len(mod_down_t))-1)],[0 for k in range(min(len(mod_up_t), len(mod_down_t))-1)]\n",
    "    for i in range(min(len(mod_up_t), len(mod_down_t))-1):\n",
    "        if mod_up_t[i] < mod_down_t[i+order]:\n",
    "            mm[i] = np.mean(y[mod_up_t[i]+offset:mod_down_t[i+order]-offset])\n",
    "            modu[i] = np.mean(mod[mod_up_t[i]:mod_down_t[i+order]])\n",
    "            modu_std[i] = np.std(mod[mod_up_t[i]:mod_down_t[i+order]])      \n",
    "            xx[i] = t[int(np.floor((mod_up_t[i] + mod_down_t[i+order])/2))]\n",
    "    \n",
    "    #if moving_mean_flag is false, we plot a straight line of threshold with a bitstream.\n",
    "    if not(moving_mean_flag):\n",
    "        threshold = [(min(mm)+max(mm))/2]*len(mm)\n",
    "    else:\n",
    "        threshold = movmean(mm, 50)\n",
    "       \n",
    "    #once the threshold is determined, we sort the peak of the signal to either high (bit 1) or low (bit 0).\n",
    "    low, high, mm0, xx0, mm1, xx1 = [], [], [], [], [], []\n",
    "    for k in range(len(mm)):\n",
    "        if mm[k]<threshold[k]:\n",
    "            low.append(k)\n",
    "            mm0.append(mm[k])\n",
    "            xx0.append(xx[k])\n",
    "        if mm[k]>threshold[k]:\n",
    "            high.append(k)\n",
    "            mm1.append(mm[k])\n",
    "            xx1.append(xx[k])\n",
    "\n",
    "    bit_stream = np.in1d(np.sort(low+high),high)\n",
    "    nbits = len(bit_stream)\n",
    "    mean_bit = np.mean(bit_stream) #basically, it will give the probability, since bit_stream is either 1 or 0.\n",
    "    bit_flip_prob = np.mean(abs(np.diff(bit_stream))) #the easiest way of checking the true randomness at the first stage is to check whether the bit is flipping randomly (0.5)\n",
    "    test_pass = abs(mean_bit-0.5)<1/np.sqrt(nbits) and abs(bit_flip_prob-0.5)<1/sqrt(nbits)\n",
    "    \n",
    "    #set draw_flag to false if you don't want to plot and just get the bitstream result.\n",
    "    if draw_flag==True:\n",
    "        print('Extracted repetition rate = '+ str(1/(t[MinPeakDistance0]-t[1]))+'Hz \\n')\n",
    "        print('Number of Bits %s \\n' %nbits)\n",
    "        print('Bit Mean %s \\n' %mean_bit)\n",
    "        print('Bit Flip Probability %s \\n' %bit_flip_prob)\n",
    "\n",
    "    print('Passes simple RNG test (mean and flip)? %s (%s, %s) \\n' %(test_pass, mean_bit, bit_flip_prob) )\n",
    "   \n",
    "    bit_str_plt=[]\n",
    "    up_plt=max(sig)\n",
    "    down_plt=min(sig)\n",
    "    for k in range(len(bit_stream)):\n",
    "        if bit_stream[k]:\n",
    "             bit_str_plt+=[up_plt]*(mod_up_t[k+1]-mod_up_t[k])\n",
    "        else:\n",
    "            bit_str_plt+=[down_plt]*(mod_up_t[k+1]-mod_up_t[k])\n",
    "    if draw_flag==True:\n",
    "        plt.figure()\n",
    "        plt.plot(t, sig - np.min(sig), color = 'black')\n",
    "    #     plt.plot(t, (mod - np.min(mod))/(np.max(mod) - np.min(mod))*np.mean(sig), color = 'grey')\n",
    "    #     plt.plot(np.array(bit_str_plt),alpha=0.5)\n",
    "        plt.bar(xx0, mm0, width = 0.00005, alpha = 0.5, color = 'red')\n",
    "        plt.bar(xx1, mm1, width = 0.00005, alpha = 0.5, color = 'blue')\n",
    "        if moving_mean_flag:\n",
    "            plt.plot(xx, threshold - np.min(sig), linestyle = '--')\n",
    "        else:       \n",
    "            plt.plot(t, [threshold[0] for k in sig] - np.min(sig))\n",
    "    #return(bit_stream,test_pass)\n",
    "    if contrast_adjust == True:\n",
    "        return(bit_stream,test_pass,mm1,mm0)\n",
    "    else:\n",
    "        return(bit_stream,test_pass)\n",
    "        "
   ]
  },
  {
   "cell_type": "markdown",
   "id": "7ccd3986",
   "metadata": {},
   "source": [
    "# Workflow"
   ]
  },
  {
   "cell_type": "markdown",
   "id": "11daf5bf",
   "metadata": {},
   "source": [
    "Put all the functions previously defined. "
   ]
  },
  {
   "cell_type": "markdown",
   "id": "23db35e8",
   "metadata": {
    "ExecuteTime": {
     "end_time": "2022-05-31T18:45:55.004799Z",
     "start_time": "2022-05-31T18:45:54.994799Z"
    }
   },
   "source": [
    "### OPO setup"
   ]
  },
  {
   "cell_type": "code",
   "execution_count": null,
   "id": "5ebc4dad",
   "metadata": {
    "ExecuteTime": {
     "end_time": "2023-05-23T17:25:57.193592Z",
     "start_time": "2023-05-23T17:25:57.193592Z"
    },
    "init_cell": true
   },
   "outputs": [],
   "source": [
    "# First function to use, connect all the component and set them to their default behavior\n",
    "# The default behavior is the sweep of the cavity\n",
    "# Input nothing and return nothing\n",
    "# Define global variable m,o,p,f,r,pm so be carefull not to use them\n",
    "\n",
    "def Setup():\n",
    "    global m,o,p,f,r,pm\n",
    "    m,o,p,f,r,pm=ConnectAll()\n",
    "    f.stop(func_channel=1)\n",
    "    f.stop(func_channel=2)\n",
    "    p.stop()\n",
    "    f.set_function_ramp(func_channel=func_channel,sym=func_symmetry,upV=volt_high,lowV=volt_low,phase=phase,freq=freq)\n",
    "    f.start(func_channel=func_channel)\n",
    "    o.set_time(2/freq/10)\n",
    "    o.conn.WriteString(\"TRig_MoDe AUTO\",True)\n",
    "    o.conn.writeString(\"C\"+str(opo_ch_source)+\":CPL D50\",True)\n",
    "    o.conn.writeString(\"C\"+str(error_ch_source)+\":CPL D50\",True)\n",
    "    o.conn.writeString(\"C\"+str(volt_ch_source)+\":CPL D1M\",True)\n",
    "    o.conn.writeString(\"C\"+str(modulation_ch_source)+\":CPL D1M\",True)\n",
    "    p.stop()\n",
    "    p.set_offset(offset)\n",
    "    p.setup_control(offset=offset,p_gain=p_gain,i_gain=i_gain)\n",
    "    p.conn.query(\"GETN? 1, 120\")"
   ]
  },
  {
   "cell_type": "code",
   "execution_count": null,
   "id": "acb7242a",
   "metadata": {
    "ExecuteTime": {
     "end_time": "2023-05-23T17:25:57.194567Z",
     "start_time": "2023-05-23T17:25:57.194567Z"
    },
    "init_cell": true
   },
   "outputs": [],
   "source": [
    "# Exact same function as before but do not connect the components\n",
    "# Use this function if you want to reset the electronics, but do want to connect the components again.\n",
    "def Setup_Fast():\n",
    "    f.stop(func_channel=1)\n",
    "    f.stop(func_channel=2)\n",
    "    p.stop()\n",
    "    f.set_function_ramp(func_channel=func_channel,sym=func_symmetry,upV=volt_high,lowV=volt_low,phase=phase,freq=freq)\n",
    "    f.start(func_channel=func_channel)\n",
    "    o.set_time(2/freq/10)\n",
    "    o.conn.WriteString(\"TRig_MoDe AUTO\",True)\n",
    "    o.conn.writeString(\"C\"+str(opo_ch_source)+\":CPL D50\",True)\n",
    "    o.conn.writeString(\"C\"+str(error_ch_source)+\":CPL D50\",True)\n",
    "    o.conn.writeString(\"C\"+str(volt_ch_source)+\":CPL D1M\",True)\n",
    "    o.conn.writeString(\"C\"+str(modulation_ch_source)+\":CPL D1M\",True)"
   ]
  },
  {
   "cell_type": "code",
   "execution_count": null,
   "id": "2119d7dd",
   "metadata": {},
   "outputs": [],
   "source": [
    "# Do an entire Mode sweep of the cavity, get every voltage for each mode and their height evolution\n",
    "\n",
    "def Mode_Sweep():\n",
    "    f.stop(func_channel=2)\n",
    "    p.stop()\n",
    "    f.set_function_ramp(func_channel=func_channel,sym=func_symmetry,upV=volt_high,lowV=volt_low,phase=phase,freq=freq)\n",
    "    f.start() # Start triangle sweep\n",
    "    o.set_time(20/freq/10) # Get 20 sweeps\n",
    "    time.sleep(2)\n",
    "    o.conn.WriteString(\"STOP\",True) # Stop the oscillo before acquisition\n",
    "    t,a1=o.acquire(opo_ch_source)\n",
    "    t2,a2=o.acquire(volt_ch_source)\n",
    "    t3,a3=o.acquire(error_ch_source) # acquire all OPO signals\n",
    "    Height,Voltage,GreenHeight,Peaks=HeightPerModes(a1,a2,a3) # get the height evolution of each mode\n",
    "    o.conn.WriteString(\"TRig_MoDe AUTO\",True) # reset the oscillo trigger\n",
    "    Var=StatHeight(Height) # get the variance in the height of each mode\n",
    "    return (t,a1,a2,a3,Peaks,Height,Voltage,GreenHeight,Var) # return everything to be used after"
   ]
  },
  {
   "cell_type": "code",
   "execution_count": null,
   "id": "84a749e3",
   "metadata": {},
   "outputs": [],
   "source": [
    "# v : Float, theoritical piezo voltage the mode is supposed to bet at after doing the initial sweep\n",
    "# It returns the real good voltage one shouls be using to lock (Float)\n",
    "# This function does a little piezo DC voltage sweep near the theoritical position\n",
    "# This is because piezo does not respond the same to a triangle and to a DC voltage therefore a little adjustement is needed\n",
    "# We then take the voltage of the highest peak in this sweep\n",
    "\n",
    "def GoodVoltage(v):\n",
    "    p.stop() #stop PID\n",
    "    sig=[]\n",
    "    vol=[]\n",
    "    scale=(volt_high-volt_low)/10 # range of the DC sweep (arbitrary factor)\n",
    "    for k in range(100):\n",
    "        volt=v-scale/2+scale*k/100\n",
    "        f.set_function_DC(volt,func_channel=func_channel) # send a DC voltage\n",
    "        time.sleep(0.1)\n",
    "        t,a=o.acquire(opo_ch_source) # get the OPO signal for this voltage\n",
    "        t,b=o.acquire(volt_ch_source) # get the voltage signal (real one)\n",
    "        sig.append(np.mean(a))\n",
    "        vol.append(np.mean(b))\n",
    "    plt.figure()\n",
    "    plt.plot(vol,sig) # Plot the result of the sweep to help the user\n",
    "    plt.xlabel(\"DC voltage send to the piezo (V)\")\n",
    "    plt.ylabel(\"Mean of the OPO signal (V)\")\n",
    "    plt.title(\"Result of the DC sweep near the value found with the triangle sweep\") \n",
    "    goodv=vol[np.argmax(sig)] # the voltage choosen is the highest peak in the sweep\n",
    "    return(goodv)"
   ]
  },
  {
   "cell_type": "code",
   "execution_count": null,
   "id": "3ede5363",
   "metadata": {},
   "outputs": [],
   "source": [
    "# This function does the setpoint sweep\n",
    "# It varies the setpoint and then choose the setpoint for which mean/std is the highest\n",
    "# It then return the setpoint (Float)\n",
    "\n",
    "def GoodSetpoint():\n",
    "    sig,var=[],[]\n",
    "    stp=[]\n",
    "    k=0\n",
    "    p.stop() # stop the piezo\n",
    "    p.control(0) # enable piezo with setpoint 0\n",
    "    p.stop()\n",
    "    time.sleep(1)\n",
    "    p.get_out()\n",
    "    time.sleep(1)\n",
    "    p.stop()\n",
    "    p.control(0)\n",
    "    p.stop()\n",
    "    time.sleep(1)\n",
    "    p.get_out()\n",
    "    time.sleep(1) \n",
    "    # All the previous are initizalization calls to be sure the setpoint send us the good output, \n",
    "    # indeed sometime it has some buses in memory. This is done to get those buses and also to set it to setpoint=0\n",
    "    while (min_out<p.get_out()<max_out or k==0): # we are sweeping setpoint while the PID can send sufficient voltage\n",
    "        stp.append(k/100) # setpoint used\n",
    "        p.stop()\n",
    "        time.sleep(0.1)\n",
    "        p.control(k/100) # control with the setpoint\n",
    "        time.sleep(0.5)\n",
    "        t,a=o.acquire(opo_ch_source) # acquire the signal\n",
    "        sig.append(np.mean(a)) # get mean\n",
    "        var.append(np.sqrt(np.var(a))) #get std\n",
    "        k+=1\n",
    "    p.stop()\n",
    "    plt.figure()\n",
    "    plt.plot(stp,sig)\n",
    "    plt.plot(stp,var) # plot the sweep result to help the user\n",
    "    plt.xlabel(\"Setpoint used\")\n",
    "    plt.ylabel(\"Voltage (V)\")\n",
    "    plt.legend([\"Mean of the signal (V)\",\"Std of the signal (V)\"])\n",
    "    plt.title(\"Result of the Setpoint Sweep\")\n",
    "    goods=stp[np.argmax(np.array(sig-np.min(sig))/var)] # Take the setpoint with better ratio mean/std\n",
    "    return(goods)"
   ]
  },
  {
   "cell_type": "markdown",
   "id": "3b479269",
   "metadata": {},
   "source": [
    "### Turn on Modulation signal"
   ]
  },
  {
   "cell_type": "code",
   "execution_count": 29,
   "id": "7f522f4a",
   "metadata": {
    "ExecuteTime": {
     "end_time": "2023-05-19T19:45:56.285808Z",
     "start_time": "2023-05-19T19:45:56.281903Z"
    }
   },
   "outputs": [],
   "source": [
    "# s : Float, Setpoint used without modulation\n",
    "# fudge, Float, how the user thinks the setpoint will change when enabling modulation\n",
    "# This function enable modulation and change the setpoint\n",
    "\n",
    "def Modulation(s,fudge=1/2.):\n",
    "    f.set_function_square(func_channel=modulation_channel,sym=modulation_simmetry,phase=modulation_phase,upV=modulation_volt_high,lowV=modulation_volt_low,freq=modulation_freq)\n",
    "    f.start(modulation_channel) # enable modulation\n",
    "    o.set_time(5/modulation_freq) # get good time acquisition (50 bits)\n",
    "    p.control(s*fudge) # change the setpoint\n",
    "    return()"
   ]
  },
  {
   "cell_type": "markdown",
   "id": "160122cc",
   "metadata": {},
   "source": [
    "### Lock to a specific OPO mode"
   ]
  },
  {
   "cell_type": "code",
   "execution_count": null,
   "id": "eed76c31",
   "metadata": {},
   "outputs": [],
   "source": [
    "# This function Lock the cavity on the highest variance mode (without modulation)\n",
    "# The input lock is a string flag telling which mode you want to lock in\n",
    "# \"v\" correspond to the highest variance mode\n",
    "# \"h\" : correspond to the highest mode\n",
    "# If the string is an int, you will lock on the n'th mode\n",
    "# The general idea is to do the mode sweep with triangle\n",
    "# Then the smaller DC sweep near the good voltage\n",
    "# Then the setpoint sweep\n",
    "# It return the DC voltage used and the setpoint used\n",
    "# It also plot the results of DC sweep and setpoint sweep to help the user undertsand what went wrong if the locking didn't happen\n",
    "\n",
    "def Locking(lock=\"v\"):\n",
    "    Setup_Fast()  # Initialize the cavity to sweeping\n",
    "    t,OPO,Volt,Green,Peaks,Height,Voltage,GreenHeight,Var=Mode_Sweep() # Get all the mode sweeping data\n",
    "    o.set_time(2/1000) # Zoom in \n",
    "    print(\"Initial Sweep Done\")\n",
    "    H=[np.mean(h) for h in Height] # Height list of the modes\n",
    "    print(\"Number of good modes detected : \" + str(len(H)))\n",
    "    if lock==\"v\":\n",
    "        v=Voltage[np.argmax(Var)] # Voltage of the mode with highest variance \n",
    "    elif lock==\"h\":\n",
    "         v=Voltage[np.argmax(H)] # Voltage of the mode with highest intensity \n",
    "    elif lock.isdigit():\n",
    "        v=Voltage[int(lock)] # Voltage of the lock'th mode\n",
    "    else:\n",
    "        raise ValueError('Input is not a correct flag')\n",
    "    print( \"Initial Voltage guess : \"+str(v)+\" V\")\n",
    "    v=GoodVoltage(v) # DC voltage sweep\n",
    "    f.set_function_DC(v,func_channel=func_channel) # Set DC voltage\n",
    "    print(\"DC Sweep done. Voltage Found at : \" + str(v)+\" V\")\n",
    "    s=GoodSetpoint() # Setpoint sweep\n",
    "    for k in range(int(s*100+1)): # We once again rise the setpoint to the good setpoint s\n",
    "        p.stop()\n",
    "        time.sleep(0.1)\n",
    "        p.control(k/100) # rise setpoint\n",
    "        time.sleep(0.5)\n",
    "    print(\"Setpoint Sweep done. Setpoint used : \" + str(s) + \" V\")\n",
    "    return(v,s) # return voltage/setpoint"
   ]
  },
  {
   "cell_type": "markdown",
   "id": "2ab86249",
   "metadata": {},
   "source": [
    "### Move piezo stage to give time delay between bias and pump"
   ]
  },
  {
   "cell_type": "markdown",
   "id": "5fed46c2",
   "metadata": {},
   "source": [
    "In our manuscript, we introduce a simple reconstruction of weak bias field. We give time delay between bias and pump by changing the optical path of bias line with piezo stage and measure the probability. The code below introduces how we can control the piezo and measure the probability."
   ]
  },
  {
   "cell_type": "code",
   "execution_count": null,
   "id": "6d47a8a3",
   "metadata": {
    "ExecuteTime": {
     "end_time": "2023-05-23T17:25:57.195542Z",
     "start_time": "2023-05-23T17:25:57.195542Z"
    },
    "init_cell": true
   },
   "outputs": [],
   "source": [
    "# Npoints : Int, number of points you want to acquire\n",
    "# path : str, path in which you want to save the datas (General file, the programm will create subfolder by itself)\n",
    "# This programm does the piezo sweep, it will acquire bit datas then move the piezo and so on...\n",
    "# All the datas will be saved in \"Path/%Day/P-Sweep/%Number of P-sweep of the day\"\n",
    "# It returns the piezo position vector and the probability for each position vector\n",
    "\n",
    "\n",
    "def Piezo_Sweep(NPoints, step_size, pm_start_position=0, path=r'your_own_path',draw_flag=False):\n",
    "    pmbis=pm # By default, this is supposed to be the piezo motor\n",
    "    try:\n",
    "        pmbis=pylablib.devices.Thorlabs.kinesis.KinesisPiezoMotor(\"your_own_device_number\") # if not connected, connecte to the piezo motor\n",
    "        # if the device is still not connected, try to unplug and plug again\n",
    "    except KeyboardInterrupt: # if user interrupt we stop the loop\n",
    "        pass        \n",
    "    finally: # All this subsection just create the folder in which one saves the data\n",
    "        today = date.today()\n",
    "        today=str(today)\n",
    "        try:\n",
    "            os.mkdir(path+\"/\"+today)\n",
    "        except FileExistsError:\n",
    "            pass\n",
    "        try:\n",
    "            os.mkdir(path+\"/\"+today+\"/P-Sweep\")\n",
    "        except FileExistsError:\n",
    "            pass\n",
    "        nbr=len([name for name in os.listdir(path+\"/\"+today+\"/P-Sweep\")])\n",
    "        path=path+\"/\"+today+\"/P-Sweep/Sweep N°\"+str(nbr+1)\n",
    "        os.mkdir(path)\n",
    "\n",
    "        Pos=[pm_start_position] # Position of the piezo list\n",
    "        Prob=[] # Probability list\n",
    "        move_sign=1\n",
    "        moving_unit=2\n",
    "        contrast_target = 0.08 \n",
    "        #sometimes, the opo bitstream can lose its contrast gradually so the code below is a simple code to \n",
    "        #adjust the contrast by moving one of the arm of homodyne detection with piezo stage. \n",
    "        previous_contrast= 0\n",
    "        check_flag=True\n",
    "        for k in range(NPoints):\n",
    "            print('Taking point n{0}'.format(k))\n",
    "            #Data, b, tp = Take_temp(draw_flag) # Take the datas\n",
    "            Data, b, tp, mm1, mm0 = Take_temp(draw_flag)\n",
    "            # Pseudo code for contrast optimization\n",
    "            current_contrast= (mm1[np.argmax(mm1)]-mm0[np.argmin(mm0)])/(mm1[np.argmax(mm1)]+mm0[np.argmin(mm0)])\n",
    "            if False :\n",
    "                if current_contrast < contrast_target:\n",
    "                    if current_contrast < previous_contrast:\n",
    "                        move_sign=-move_sign\n",
    "                        pmbis.move_by(2*moving_unit*move_sign, channel=2)\n",
    "                        pmbis.wait_move(channel=2)\n",
    "                        previous_contrast=current_contrast\n",
    "                    elif current_contrast > previous_contrast:\n",
    "                        pmbis.move_by(moving_unit*move_sign, channel=2)\n",
    "                        pmbis.wait_move(channel=2)\n",
    "                        previous_contrast=current_contrast\n",
    "                else:\n",
    "                    previous_contrast= 0\n",
    "            time.sleep(1)\n",
    "            Prob.append(np.mean(b)) # this is the probability of 1\n",
    "            np.save(path+\"/Data_at_pos_\"+str(Pos[-1])+\".npy\",Data) # save datas\n",
    "            np.save(path+\"/Data_at_pos_pros\"+str(Pos[-1])+\".npy\",(Pos[-1],Prob[-1]))\n",
    "            pmbis.move_by(step_size, channel=1) # move piezo by 1 unit (can change)\n",
    "            pmbis.wait_move(channel=1) # wait till move end\n",
    "            Pos.append(Pos[-1]+step_size) # Update Pos\n",
    "            if (Prob[-1] < 0.1) or (Prob[-1]> 0.9): # We move the piezo further by 1 if prob are nearly 0 or 1 (can change the conditions)\n",
    "                pmbis.move_by(step_size, channel=1)\n",
    "                pmbis.wait_move(channel=1)\n",
    "                Pos[-1]+=step_size\n",
    "        Pos=Pos[:-1] # Remove last position as it was not used\n",
    "        plt.figure()\n",
    "        plt.plot(Pos,Prob)\n",
    "        plt.xlabel(\"Piezo Step\")\n",
    "        plt.ylabel(\"Probability of 1\")\n",
    "        plt.title(\"Probability tunability with the time delay\")  # Create the final plot position vs probability and then save it\n",
    "        plt.savefig(path+\"/Result.png\")\n",
    "        np.save(path+\"/Result.npy\",[Pos,Prob])\n",
    "        return(Pos,Prob) # Return both the position and probability vector for further anlysis/plot"
   ]
  },
  {
   "cell_type": "markdown",
   "id": "28618510",
   "metadata": {},
   "source": [
    "### Controlling the waveplate in front of the bias"
   ]
  },
  {
   "cell_type": "markdown",
   "id": "64deb4c4",
   "metadata": {},
   "source": [
    "In our manuscript, we rotate the waveplate in front of the bias to tune the power of the bias and check how probability changes based on the rotation angle. The code below is the function used to rotate the waveplate and measure the probability of the bitstream."
   ]
  },
  {
   "cell_type": "code",
   "execution_count": 31,
   "id": "f1e1cd20",
   "metadata": {
    "ExecuteTime": {
     "end_time": "2023-05-19T19:45:56.647850Z",
     "start_time": "2023-05-19T19:45:56.641964Z"
    }
   },
   "outputs": [],
   "source": [
    "# Npoints : Int, number of points you want to acquire\n",
    "# path : str, path in which ou want to save the datas (General file, the programm will create subfolder by itself)\n",
    "# This programm does the waveplate sweep, it will acquire bit datas then move the waveplate by one degree and so on...\n",
    "# All the datas will be saved in \"Path/%Day/W-Sweep/%Number of W-sweep of the day\"\n",
    "# It returns the waveplate angles vector and the probability for each position vector\n",
    "\n",
    "\n",
    "def Waveplate_Sweep(NPoints, unit_rotate, path=r'your_own_path',draw_flag=False):\n",
    "    # All this subsection just create the folder in which one save the dataas\n",
    "    today = date.today()\n",
    "    today=str(today)\n",
    "    try:\n",
    "        os.mkdir(path+\"/\"+today)\n",
    "    except FileExistsError:\n",
    "        pass\n",
    "    try:\n",
    "        os.mkdir(path+\"/\"+today+\"/W-Sweep\")\n",
    "    except FileExistsError:\n",
    "        pass\n",
    "    nbr=len([name for name in os.listdir(path+\"/\"+today+\"/W-Sweep\")])\n",
    "    path=path+\"/\"+today+\"/W-Sweep/Sweep N°\"+str(nbr+1)\n",
    "    os.mkdir(path)\n",
    "\n",
    "    Pos=[0] # Angle of the waveplate list\n",
    "    r.moveto(-32+0) ##\n",
    "    Prob=[] # Probability list\n",
    "    for k in range(NPoints):\n",
    "        time.sleep(3)\n",
    "        Data,b,tp=Take_temp(draw_flag) # Take the datas\n",
    "        Prob.append(np.mean(b)) # this is the probability of \"1\"\n",
    "        np.save(path+\"/Data_at_angle_\"+str(Pos[-1])+\".npy\", Data) # save datas\n",
    "        r.moveby(unit_rotate) # move wavplate by 1 degree (can change the 1) \n",
    "        Pos.append(Pos[-1]+unit_rotate) # Update Pos\n",
    "    Pos=Pos[:-1] # Remove last position as it was not used\n",
    "    plt.figure()\n",
    "    plt.plot(Pos,Prob)\n",
    "    plt.xlabel(\"Waveplate Angle\")\n",
    "    plt.ylabel(\"Probability of 1\")\n",
    "    plt.title(\"Probability tunability with the waveplate angle\")  # Create the final plot angle vs probability and then save it\n",
    "    plt.savefig(path+\"/Result.png\")\n",
    "    np.save(path+\"/Result.npy\",[Pos,Prob])\n",
    "    return(Pos,Prob) # Return both the position and probability vector for further anlysis/plot"
   ]
  },
  {
   "cell_type": "markdown",
   "id": "6d439f97",
   "metadata": {},
   "source": [
    "### Acquire bitstreams and save the data"
   ]
  },
  {
   "cell_type": "markdown",
   "id": "fd40d438",
   "metadata": {},
   "source": [
    "Based on the previous \"Bistream\" function, the following functions include options to change the number of bits to measure at one measurement, save the data in the local machine, etc."
   ]
  },
  {
   "cell_type": "code",
   "execution_count": 32,
   "id": "0e8dcd74",
   "metadata": {
    "ExecuteTime": {
     "end_time": "2023-05-19T19:45:57.476685Z",
     "start_time": "2023-05-19T19:45:57.473757Z"
    }
   },
   "outputs": [],
   "source": [
    "# N : Int, Number of bits you want to acquire\n",
    "# This function changes the time acquisition of the oscilloscope and ask the user to change the number of points\n",
    "\n",
    "def Bit_Number(N):\n",
    "    T=N/modulation_freq/10\n",
    "    o.set_time(T) # Zoom to have the correct number  of bits displayed\n",
    "    N_points=T/(2/1000)*50000 # Number of points one should have\n",
    "    print(\"Set the number of points of the oscilloscope to \" + str(N_points)) # Ask the user"
   ]
  },
  {
   "cell_type": "code",
   "execution_count": null,
   "id": "27dc4ec8",
   "metadata": {
    "ExecuteTime": {
     "end_time": "2023-05-23T17:25:57.196518Z",
     "start_time": "2023-05-23T17:25:57.196518Z"
    },
    "init_cell": true
   },
   "outputs": [],
   "source": [
    "# This function justtake oscilloscope datas and converts them into a bit stream\n",
    "# It returns the datas (Float Array x3), the bistream (Bool Array) and a boolean indicating if the naive test is passed \n",
    "# The datas are in order : [[time, signal, modulation],bit stream, boolean]\n",
    "\n",
    "def Take_temp(draw_flag):\n",
    "    o.conn.WriteString(\"STOP\",True) # Stop the oscillo to acquire\n",
    "    t,sig=o.acquire(opo_ch_source) # acquire OPO signal\n",
    "    t,mod=o.acquire(modulation_ch_source) # acquire modulation signal\n",
    "    o.conn.WriteString(\"TRig_MoDe AUTO\",True) # Restart the oscillo\n",
    "    #b,tp=BitStream(t,sig,mod,draw_flag) # Get the bistream out of datas\n",
    "    b,tp,mm1,mm0=BitStream(t,sig,mod,draw_flag) # Get the bistream out of datas\n",
    "    return([t,sig,mod],b,tp,mm1,mm0) #return all values"
   ]
  },
  {
   "cell_type": "code",
   "execution_count": null,
   "id": "9c85d379",
   "metadata": {
    "ExecuteTime": {
     "end_time": "2023-05-23T17:25:57.197494Z",
     "start_time": "2023-05-23T17:25:57.197494Z"
    },
    "init_cell": true
   },
   "outputs": [],
   "source": [
    "# path : str, path in which ou want to save the datas (General file, the programm will create subfolder by itself)\n",
    "# This function take datas and then save them in \"path/%Date/Good-Bad/Data_Numberofdatas_NumberOfBits\".\n",
    "# The Good/Bad folder is chosen depending on if the datas are considered good with the naive test or bad\n",
    "# datas are saved following : [[time, OPo signal, Modulation signal], bit stream] \n",
    "\n",
    "def Take(path=r'your_own_path'):\n",
    "    draw_flag=True\n",
    "    signal,bit_stream,test_pass=Take_temp(draw_flag) # acquire all datas\n",
    "    today = date.today()\n",
    "    today=str(today)\n",
    "    try:\n",
    "        os.mkdir(path+\"/\"+today)\n",
    "    except FileExistsError:\n",
    "        pass\n",
    "    if test_pass:\n",
    "        new_path=path+\"/\"+today+\"/Good\"\n",
    "    else:\n",
    "        new_path=path+\"/\"+today+\"/Bad\"\n",
    "    try:\n",
    "        os.mkdir(new_path)\n",
    "    except FileExistsError:\n",
    "        pass # All the previous section was to create the folder if needed\n",
    "    nbr=len([name for name in os.listdir(new_path)])\n",
    "    np.save(new_path+\"/Data_\"+str(nbr+1)+\"_\"+str(len(bit_stream))+\"bits\"+\".npy\",[signal,bit_stream]) # save datas\n",
    "    return(bit_stream) # return the bit stream"
   ]
  },
  {
   "cell_type": "code",
   "execution_count": 35,
   "id": "3a188e14",
   "metadata": {
    "ExecuteTime": {
     "end_time": "2023-05-19T19:45:58.012670Z",
     "start_time": "2023-05-19T19:45:58.001934Z"
    }
   },
   "outputs": [],
   "source": [
    "#N is the number of bits we want to look at\n",
    "#modulatoin frequency set to 1000\n",
    "#we want to set sampling rate as constant. Now it is 1000kS/s\n",
    "\n",
    "def Take_Nbits(N, draw_flag, sampling_rate, path=r'your_own_path', modulation_freq=10000):\n",
    "\n",
    "    time_string_1=\"TDIV \"\n",
    "    time_string_2=\" S\"\n",
    "    memory_str=\"MSIZ \"\n",
    "    total_time=N/modulation_freq\n",
    "    set_time_division_num=total_time/10\n",
    "    set_time_division_str=str(set_time_division_num)\n",
    "    set_MSIZ_num=total_time*sampling_rate\n",
    "    temp=time_string_1+set_time_division_str+time_string_2\n",
    "    o.conn.WriteString(temp,True) #put time division to the oscillo \n",
    "    temp=memory_str+str(set_MSIZ_num)\n",
    "    o.conn.WriteString(temp,True) #put memory size to the oscillo\n",
    "\n",
    "    #Oscilloscope only allows discrete values of memory size, so certain discrete values of bit numbers are allowed.\n",
    "    #Therefore, we have to check the current memory size and time division of oscilloscope.\n",
    "    \n",
    "    o.conn.WriteString(\"Memory_SIZe?\", True)\n",
    "    current_memory_str=o.conn.ReadString(500) # get current memory size as a string\n",
    "    #print(current_memory_str)\n",
    "    if (current_memory_str.__contains__(\"MSIZ\")):\n",
    "        txt=current_memory_str.split()[1]\n",
    "    else:\n",
    "        txt=current_memory_str\n",
    "    o.conn.WriteString(\"Time_DIV?\", True) \n",
    "    current_time_div_string=o.conn.ReadString(500) # get current time division as a string    \n",
    "    if (current_time_div_string.__contains__(\"TDIV\")):\n",
    "        txt2=current_time_div_string.split()[1]\n",
    "    else:\n",
    "        txt2=current_time_div_string  \n",
    "    #print(txt2)\n",
    "    current_time_div_num=float(txt2)    \n",
    "    \n",
    "    current_memory_num=0\n",
    "    emp_str=\"\"\n",
    "    for m in txt:\n",
    "        if m.isdigit():\n",
    "            emp_str+=m #get only numbers, not letters\n",
    "    if txt != \"2.5M\": #we separate the case of 2.5M, since this is the only case that includes \"point\" in the string\n",
    "        if txt.find(\"K\")!=-1: #returns -1 when there is no specific letter\n",
    "            current_memory_num=int(float(emp_str))*1000\n",
    "        elif txt.find(\"M\")!=-1:\n",
    "            current_memory_num=int(float(emp_str))*1000000\n",
    "        else:\n",
    "            current_memory_num=int(float(emp_str))\n",
    "    else:\n",
    "        current_memory_num=2500000    \n",
    "    memory_array_str = [\"500\", \"1000\", \"2500\", \"5000\", \"10K\", \"25K\", \"50K\", \"100K\", \"250K\", \"500K\", \"1M\", \"2.5M\", \"5M\", \"10M\", \"25M\"]\n",
    "    memory_array_num = [500, 1000, 2500, 5000, 10000, 25000, 50000, 100000, 250000, 500000, 1000000, 2500000,5000000, 10000000, 25000000]\n",
    "    \n",
    "    current_memory_str=\"\"\n",
    "   \n",
    "    while current_memory_num < sampling_rate*current_time_div_num*10:\n",
    "            index=memory_array_num.index(current_memory_num)\n",
    "            index+=1\n",
    "            current_memory_num=memory_array_num[index]\n",
    "            current_memory_str=memory_array_str[index] #we get the desirable memory size which doesn't reduce the sampling rate\n",
    "    \n",
    "    temp=memory_str+current_memory_str\n",
    "    o.conn.WriteString(temp,True) \n",
    "    temp=time_string_1+current_time_div_string+time_string_2\n",
    "    o.conn.WriteString(temp,True) \n",
    "    time.sleep(2*total_time) # this time, need to be computed based on the number of bit. E.g. 10k 10kHz need 1s, 100k 10kHz need 10s\n",
    "    signal,bit_stream,test_pass,mm1,mm0=Take_temp(draw_flag)\n",
    "    today = date.today()\n",
    "    today=str(today)\n",
    "    try:\n",
    "        os.mkdir(path+\"/\"+today)\n",
    "    except FileExistsError:\n",
    "        pass\n",
    "    if test_pass:\n",
    "        new_path=path+\"/\"+today+\"/Good\"\n",
    "    else:\n",
    "        new_path=path+\"/\"+today+\"/Bad\"\n",
    "    try:\n",
    "        os.mkdir(new_path)\n",
    "    except FileExistsError:\n",
    "        pass # All the previous section was to create the folder if needed\n",
    "    nbr=len([name for name in os.listdir(new_path)])\n",
    "    np.save(new_path+\"/Data_\"+str(nbr+1)+\"_\"+str(len(bit_stream))+\"bits\"+\".npy\",[signal,bit_stream]) # save datas\n",
    "    \n",
    "    \n",
    "    return(bit_stream)  #return all values"
   ]
  },
  {
   "cell_type": "markdown",
   "id": "4fa3be02",
   "metadata": {
    "ExecuteTime": {
     "end_time": "2022-04-18T23:23:21.105545Z",
     "start_time": "2022-04-18T23:23:21.092585Z"
    }
   },
   "source": [
    "# Sandbox"
   ]
  },
  {
   "cell_type": "markdown",
   "id": "6cb6ed03",
   "metadata": {},
   "source": [
    "### Initialize the OPO setup"
   ]
  },
  {
   "cell_type": "code",
   "execution_count": 11,
   "id": "11b0d650",
   "metadata": {
    "ExecuteTime": {
     "end_time": "2023-05-23T17:30:46.920498Z",
     "start_time": "2023-05-23T17:30:46.917571Z"
    }
   },
   "outputs": [],
   "source": [
    "Setup()\n",
    "#Setup_Fast()"
   ]
  },
  {
   "cell_type": "markdown",
   "id": "c2e3ab32",
   "metadata": {},
   "source": [
    "### Lock to a specific OPO mode"
   ]
  },
  {
   "cell_type": "markdown",
   "id": "9f287373",
   "metadata": {},
   "source": [
    "The code below tells you which voltage and setpoint to use to lock the mode. In case it doesn't work because the OPO signal is not strong or noisy, you can skip the code and find the mode manually by looking at the oscilloscope  "
   ]
  },
  {
   "cell_type": "code",
   "execution_count": null,
   "id": "dfe902ff",
   "metadata": {},
   "outputs": [],
   "source": [
    "v, s = Locking()"
   ]
  },
  {
   "cell_type": "markdown",
   "id": "a78dc0c5",
   "metadata": {
    "ExecuteTime": {
     "end_time": "2023-05-19T18:56:01.039647Z",
     "start_time": "2023-05-19T18:56:01.035745Z"
    }
   },
   "source": [
    "### Turn on modulation"
   ]
  },
  {
   "cell_type": "code",
   "execution_count": 37,
   "id": "e9f38950",
   "metadata": {
    "ExecuteTime": {
     "end_time": "2023-05-19T19:46:41.896142Z",
     "start_time": "2023-05-19T19:46:41.871770Z"
    }
   },
   "outputs": [
    {
     "data": {
      "text/plain": [
       "()"
      ]
     },
     "execution_count": 37,
     "metadata": {},
     "output_type": "execute_result"
    }
   ],
   "source": [
    "s = 0.03 # in case needs to be set manually, otherwise comment\n",
    "Modulation(s)"
   ]
  },
  {
   "cell_type": "markdown",
   "id": "ebb3c602",
   "metadata": {},
   "source": [
    "# Example codes for experimental measurements"
   ]
  },
  {
   "cell_type": "markdown",
   "id": "d8f2a795",
   "metadata": {},
   "source": [
    "Measuring bitstream (Figure 2c)"
   ]
  },
  {
   "cell_type": "code",
   "execution_count": 3,
   "id": "7e572a57",
   "metadata": {
    "ExecuteTime": {
     "end_time": "2023-05-19T19:53:59.629911Z",
     "start_time": "2023-05-19T19:53:55.930502Z"
    }
   },
   "outputs": [],
   "source": [
    "Nbits=10000 #depends on how many bits you want to measure at once\n",
    "N_measurement #number of measurement you want to repeat\n",
    "for i in range(N_measurement):\n",
    "    temp=Take_Nbits(Nbits,draw_flag=False, sampling_rate=250000);"
   ]
  },
  {
   "cell_type": "markdown",
   "id": "271ff3ab",
   "metadata": {},
   "source": [
    "Probability measurement with varying waveplate angle (Figure 2b)"
   ]
  },
  {
   "cell_type": "code",
   "execution_count": 41,
   "id": "3a95d4db",
   "metadata": {
    "ExecuteTime": {
     "end_time": "2023-05-19T19:51:24.239555Z",
     "start_time": "2023-05-19T19:51:24.236598Z"
    }
   },
   "outputs": [],
   "source": [
    "total_prob, total_angle=[],[]\n",
    "N = 12 #depens on how many angle points you want to measure\n",
    "Nbits=20000 #depends on how many bits you want to measure at once\n",
    "θ_initial = 0 # initial waveplate angle in degree\n",
    "r.moveto(θ_initial) # initialize the waveplate angle\n",
    "θ_step = 15 # unit step of waveplate angle rotation\n",
    "for i in range(N):\n",
    "    temp=Take_Nbits(Nbits,draw_flag=False, sampling_rate=250000);\n",
    "    total_prob.append(np.mean(temp))\n",
    "    total_angle.append(θ_initial+θ_step*i)\n",
    "    r.moveby(θ_step)\n",
    "    time.sleep(3) ## to ensure stable measurement\n",
    "\n",
    "##result##\n",
    "plt.figure()\n",
    "plt.plot(total_angle,total_prob)\n"
   ]
  },
  {
   "cell_type": "markdown",
   "id": "49be3b59",
   "metadata": {},
   "source": [
    "Probability measurement with varying time delay between pump and bias (Figure 4)"
   ]
  },
  {
   "cell_type": "code",
   "execution_count": 5,
   "id": "bb427956",
   "metadata": {
    "ExecuteTime": {
     "end_time": "2023-05-19T19:56:44.184469Z",
     "start_time": "2023-05-19T19:56:44.181541Z"
    },
    "scrolled": true
   },
   "outputs": [],
   "source": [
    "pm = pylablib.devices.Thorlabs.kinesis.KinesisPiezoMotor(\"your_device_number\") # for case when piezo motor is not connected. Once connected, comment this line\n",
    "pm_start_position=0 #depends on your current position of piezo motor. This value doesn't tell the absolute position of the piezo stage.\n",
    "pm.move_to(pm_start_position,channel=1) # piezo stage is controlled via channel of piezo controller.\n",
    "N_points = 10 #number of points you want to measure the data\n",
    "unit_step = 3 # number of ticks moving per each movement \n",
    "# return position of the piezo stage and probability at that point, and plot the probs-pos figure\n",
    "(pos, probs) = Piezo_Sweep(N_points, unit_step, pm_start_position=pm_start_position)  \n",
    "# to reconstruct the pulse shape, you need to know the actual moving distance of the piezo stage per 1 tick.\n",
    "# time dependent bias field can be obtained by taking inversion erf function on 2*probs-1 (Please refer to figure 4 in the main text)"
   ]
  },
  {
   "cell_type": "code",
   "execution_count": null,
   "id": "413c5cbd",
   "metadata": {
    "ExecuteTime": {
     "end_time": "2023-05-19T22:16:05.649330Z",
     "start_time": "2023-05-19T22:16:05.622978Z"
    }
   },
   "outputs": [],
   "source": []
  },
  {
   "cell_type": "code",
   "execution_count": null,
   "id": "3d94f6a5",
   "metadata": {},
   "outputs": [],
   "source": []
  }
 ],
 "metadata": {
  "celltoolbar": "Initialization Cell",
  "kernelspec": {
   "display_name": "Python 3 (ipykernel)",
   "language": "python",
   "name": "python3"
  },
  "language_info": {
   "codemirror_mode": {
    "name": "ipython",
    "version": 3
   },
   "file_extension": ".py",
   "mimetype": "text/x-python",
   "name": "python",
   "nbconvert_exporter": "python",
   "pygments_lexer": "ipython3",
   "version": "3.9.7"
  },
  "latex_envs": {
   "LaTeX_envs_menu_present": true,
   "autoclose": false,
   "autocomplete": true,
   "bibliofile": "biblio.bib",
   "cite_by": "apalike",
   "current_citInitial": 1,
   "eqLabelWithNumbers": true,
   "eqNumInitial": 1,
   "hotkeys": {
    "equation": "Ctrl-E",
    "itemize": "Ctrl-I"
   },
   "labels_anchors": false,
   "latex_user_defs": false,
   "report_style_numbering": false,
   "user_envs_cfg": false
  },
  "toc": {
   "base_numbering": 1,
   "nav_menu": {},
   "number_sections": true,
   "sideBar": true,
   "skip_h1_title": false,
   "title_cell": "Table of Contents",
   "title_sidebar": "Contents",
   "toc_cell": false,
   "toc_position": {},
   "toc_section_display": true,
   "toc_window_display": false
  }
 },
 "nbformat": 4,
 "nbformat_minor": 5
}
