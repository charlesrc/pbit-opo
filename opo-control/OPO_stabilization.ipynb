{
 "cells": [
  {
   "cell_type": "markdown",
   "id": "fc31f1da",
   "metadata": {},
   "source": [
    "# About the code"
   ]
  },
  {
   "cell_type": "markdown",
   "id": "276dba6a",
   "metadata": {},
   "source": [
    "This is an additional jupyter notebook used to stabilize the opo mode. Details on stabilizing the cavity is mentioned in Section S3 of the supplementary information"
   ]
  },
  {
   "cell_type": "code",
   "execution_count": 4,
   "id": "ec688839",
   "metadata": {
    "ExecuteTime": {
     "end_time": "2023-05-23T17:25:45.504004Z",
     "start_time": "2023-05-23T17:25:45.499124Z"
    },
    "init_cell": true
   },
   "outputs": [],
   "source": [
    "## Import all the necessary libraries (to install use pip or use directly the github of said libraries or use requirements.txt)\n",
    "\n",
    "import pyvisa\n",
    "import numpy as np\n",
    "import matplotlib.pyplot as plt\n",
    "import time\n",
    "\n",
    "%matplotlib notebook     "
   ]
  },
  {
   "cell_type": "code",
   "execution_count": 6,
   "id": "82e32f2f",
   "metadata": {
    "ExecuteTime": {
     "end_time": "2023-05-23T17:31:26.704984Z",
     "start_time": "2023-05-23T17:31:26.701079Z"
    },
    "init_cell": true
   },
   "outputs": [],
   "source": [
    "#Input variables:\n",
    "\n",
    "Data_Path=#\"path_to_save_data\" \n",
    "\n",
    "#VISA instrument names\n",
    "fgen_visa = #visa name of funciton generator EX. \"GPIBO::12:INSTR\"\n",
    "osc_visa = #visa name of oscilloscope\n",
    "PID_visa = #visa name of PID\n",
    "MotionControll_visa= #visa name of Rotation Angle Filter \n",
    "\n",
    "\n",
    "#Function Generator sweeping variables\n",
    "# These variables set the values of the function generator in order to sweep the cavity for resonance peaks\n",
    "\n",
    "func_symmetry = 50 # symmetry of functions (e.g 100, 50)\n",
    "phase = 0 #Phase angle\n",
    "volt_high = 5 # Maximum voltage of function (in volts)\n",
    "volt_low = 0 #Minimum voltage of function (in volts)\n",
    "freq = 100 # Frequency of function (in Hertz)\n",
    "func_channel= 2  #Channel Used by the sweep in the function generator\n",
    "#ADD putput inpedance\n",
    "#waveform is hardcoded in the programm\n",
    "\n",
    "# Value for the  modulation\n",
    "\n",
    "modulation_simmetry=50\n",
    "modulation_phase = 0 #Phase angle\n",
    "modulation_volt_high = 0 # Maximum voltage of function (in volts)\n",
    "modulation_volt_low = -2.4 #Minimum voltage of function (in volts)\n",
    "modulation_freq = 10e3 # Frequency of function (in Hertz)\n",
    "modulation_channel= 1 #Channel Used by the Modulation in the function generator\n",
    "#ADD putput inpedance\n",
    "#waveform is hardcoded in the programm\n",
    "\n",
    "#Oscilloscope variables\n",
    "# These variables set the oscilloscope display and data recording settings\n",
    "\n",
    "opo_ch_source = 1 # stores the channel input for the opo signal (e.g 1)\n",
    "error_ch_source = 4 # stores the channel input for the error signal (e.g 1)\n",
    "volt_ch_source = 3 # stores the channel input for the driving voltage signal (e.g 1)\n",
    "modulation_ch_source = 2 # stores the channel input for the driving modulation signal (e.g 1)\n",
    "opo_volts_per_div = 0.2 # sets the vertical voltage sscale of oscilloscope opo input(in volts)\n",
    "error_volts_per_div = 0.2 # sets the vertical voltage sscale of oscilloscope error signal input (in volts)\n",
    "voltage_volts_per_div = 0.2 # sets the vertical voltage sscale of oscilloscope voltage signal input(in volts)\n",
    "trigger_level = 0.6 # sets the trigger level on oscilloscope in order to trigger the scope and collect data (in volts)\n",
    "nbr_data_points= 200000 # Number of data points in the oscillo # Doesnt work do it manually\n",
    "\n",
    "\n",
    "#PID parameters\n",
    "setpoint_mode = 0 # sets the set point mode, 0 for internal, 1 for external\n",
    "offset = 0.3 #sets the offset of the PID box (in volts)\n",
    "max_out=offset*2 #Maximum Voltage given by the PID (in volts)\n",
    "min_out=0       # Minimum Voltage given by the PID (in volts)\n",
    "p_gain = 0.4 #sets the proportional gain of PID (in ??)\n",
    "i_gain = 14.8E3 # sets the integral gain of PID (in ??)\n",
    "#Initial PID BOX variables\n",
    "#These variables set the initial mode and values of the PID box\n",
    "manual_output = 0.64 #The voltage output in volts of the PID box in manual mode\n"
   ]
  },
  {
   "cell_type": "markdown",
   "id": "5fc57e3f",
   "metadata": {},
   "source": [
    "## Components"
   ]
  },
  {
   "cell_type": "code",
   "execution_count": null,
   "id": "1d2e5109",
   "metadata": {
    "ExecuteTime": {
     "end_time": "2023-05-23T17:25:45.511812Z",
     "start_time": "2023-05-23T17:25:45.511812Z"
    },
    "init_cell": true
   },
   "outputs": [],
   "source": [
    "# Define a class for a PID object that can control the PID\n",
    "\n",
    "class PID :\n",
    "   \n",
    "    def __init__(self, path=PID_visa): \n",
    "        \n",
    "        # path : String like pointing to the visa adress of the PID\n",
    "        # Initiate an instance of the PID, use the visa adress \"path\"\n",
    "        \n",
    "        rm = pyvisa.ResourceManager()\n",
    "        self.conn = rm.open_resource(path)\n",
    "        self.dType = self.conn.query('*IDN?')\n",
    "        print (\"PID connected : \" + self.dType)  #Indicate to the user that the PID is connected\n",
    "            \n",
    "    def set_offset(self,V=0.64):\n",
    "        \n",
    "        # V : Float for the voltage \n",
    "        # Set the offset of the PID to \"V\" (in V)\n",
    "        \n",
    "        self.conn.write(\"SNDT 1, 'AMAN 0'\")\n",
    "        self.conn.write(\"SNDT 1, 'MOUT \"+str(V)+\"'\") \n",
    "    \n",
    "    def stop(self):\n",
    "        #Stop the Pid, no argument\n",
    "        \n",
    "        self.conn.write(\"SNDT 1, 'AMAN 0'\")\n",
    "        \n",
    "    def setup_control(self,setpoint_mode=0, offset=3, p_gain=0.2, i_gain=92):\n",
    "        # setpoint_mode : int defining the setpoint mode (0= internal, 1=external)\n",
    "        # offset : Float defining the offset voltage (in V)\n",
    "        # p_gain : Float Defining the p_gain of the PID\n",
    "        # i_gain : Float Defining the i_gain of the PID\n",
    "        # Setup all the PID values above before any measurements \n",
    "        \n",
    "        self.conn.write(\"SNDT 1, 'INPT \"+ str(setpoint_mode) +\"'\")\n",
    "        self.conn.write(\"SNDT 1, 'OFST \"+str(offset) + \"'\")\n",
    "        self.conn.write(\"SNDT 1, 'OCTL 1'\")\n",
    "        self.conn.write(\"SNDT 1, 'GAIN \"+str(p_gain)+\"'\")\n",
    "        self.conn.write(\"SNDT 1, 'PCTl 1'\")\n",
    "        self.conn.write(\"SNDT 1, 'ICTL 1'\")\n",
    "        self.conn.write(\"SNDT 1, 'INTG \"+str(i_gain)+\"'\")\n",
    "        \n",
    "    \n",
    "    def control(self,int_set):\n",
    "        # int_set : Float defining the internal setpoint (in V)\n",
    "        # Enable the control by the PID to the setpoint \"int_set\" (in V)\n",
    "        \n",
    "        int_set=int(1000*int_set)/1000\n",
    "        self.conn.write(\"SNDT 1, 'SETP \"+ str(int_set) +\"'\")\n",
    "        self.conn.write(\"SNDT 1, 'AMAN 1'\")\n",
    "    \n",
    "    def get_out (self):\n",
    "        # Get the voltage send by the PID (in V) \n",
    "        \n",
    "        self.conn.write(\"SNDT 1, 'OMON?'\")\n",
    "        try:\n",
    "            a=float(self.conn.query(\"GETN? 1, 120\")[6:-3])\n",
    "        except:\n",
    "            a=self.get_out()\n",
    "        finally:\n",
    "            return(a)     "
   ]
  },
  {
   "cell_type": "code",
   "execution_count": null,
   "id": "ce151450",
   "metadata": {
    "ExecuteTime": {
     "end_time": "2023-05-23T17:25:45.512789Z",
     "start_time": "2023-05-23T17:25:45.512789Z"
    },
    "init_cell": true
   },
   "outputs": [],
   "source": [
    "# Define a class for a FunctionGenerator object that can control the FunctionGenerator\n",
    "\n",
    "class FunctionGenerator :\n",
    "    \n",
    "    def __init__(self, path=fgen_visa):\n",
    "        # path : String like pointing to the visa adress of the FunctionGenerator\n",
    "        # Initiate an instance of the FunctionGenerator, use the visa adress \"path\"\n",
    "        \n",
    "        rm = pyvisa.ResourceManager()\n",
    "        self.conn = rm.open_resource(path)\n",
    "        self.dType = self.conn.query('*IDN?')\n",
    "        print (\"Function generator Connecetd : \" +self.dType) #Indicate to the user that the Function Generator is connected\n",
    "            \n",
    "    \n",
    "    def set_function_DC(self,V,func_channel=2):\n",
    "        self.conn.write(\"OUTP\"+str(func_channel)+\":LOAD INF\")\n",
    "        self.conn.write(\"SOURce\"+str(func_channel)+\":FUNCtion DC\")\n",
    "        self.conn.write(\"SOURce\"+str(func_channel)+\":VOLTage:OFFSet \"+str(V))\n",
    "        \n",
    "    def stop(self,func_channel=2):\n",
    "        #func_channel : int indicating the channel which we want to stop\n",
    "        #Stop the channel \"func_channel\"\n",
    "        \n",
    "        self.conn.write(\"OUTPut\"+str(func_channel)+\" OFF\")\n",
    "    \n",
    "    def start(self,func_channel=2):\n",
    "        #func_channel : int indicating the channel which we want to stop\n",
    "        # Start the channel \"func_channel\"\n",
    "        \n",
    "        self.conn.write(\"OUTPut\"+str(func_channel)+\" ON\")"
   ]
  },
  {
   "cell_type": "markdown",
   "id": "d73364d5",
   "metadata": {},
   "source": [
    "## Connection"
   ]
  },
  {
   "cell_type": "code",
   "execution_count": null,
   "id": "d827d81e",
   "metadata": {
    "ExecuteTime": {
     "end_time": "2023-05-23T17:25:45.513764Z",
     "start_time": "2023-05-23T17:25:45.513764Z"
    },
    "init_cell": true
   },
   "outputs": [],
   "source": [
    "# Try to create an instance of all the previously defined electric devices, no input needed.\n",
    "# Use the variables m,o,p,f,r for : the MotionController, the Oscilloscope, the PID, the FunctionGenerator and the RotationStage\n",
    "# Return theses instances to be used later\n",
    "\n",
    "\n",
    "def Setup():\n",
    "    global p,f\n",
    "    p=PID() # Connect the PID \n",
    "    f=FunctionGenerator() # Connect the Function Generator               "
   ]
  },
  {
   "cell_type": "code",
   "execution_count": null,
   "id": "e1ead485",
   "metadata": {
    "ExecuteTime": {
     "end_time": "2023-05-23T17:25:45.513764Z",
     "start_time": "2023-05-23T17:25:45.513764Z"
    },
    "init_cell": true
   },
   "outputs": [],
   "source": [
    "# Print which visa objects are connected to the computer\n",
    "# Usefull to check which device is connected in case of missfunction\n",
    "\n",
    "def WhatConnected():\n",
    "    rm=pyvisa.ResourceManager() #Acces to connected visa\n",
    "    print(rm.list_resources())"
   ]
  },
  {
   "cell_type": "markdown",
   "id": "e14ec008",
   "metadata": {
    "ExecuteTime": {
     "end_time": "2022-09-08T10:39:04.957822Z",
     "start_time": "2022-09-08T10:39:04.947911Z"
    }
   },
   "source": [
    "## Setpoint Control"
   ]
  },
  {
   "cell_type": "markdown",
   "id": "8209234c",
   "metadata": {},
   "source": [
    "The parasitic green signal linearly increases or decreases if the cavity length is drifting to the specific direction. We receive the PID signal and determine to which direction cavity length is drifting and compensate it by giving additional dc voltage to the piezo attached to the mirror."
   ]
  },
  {
   "cell_type": "code",
   "execution_count": null,
   "id": "535edc7d",
   "metadata": {
    "ExecuteTime": {
     "end_time": "2023-05-23T17:25:45.514740Z",
     "start_time": "2023-05-23T17:25:45.514740Z"
    },
    "init_cell": true
   },
   "outputs": [],
   "source": [
    "# volt : Float, DC voltage of the piezo\n",
    "# It returns volt (Float), the new DC voltage of the piezo\n",
    "# This function changes by 1% the DC voltage acoording to the PID response\n",
    "# It goes in the same direction as the piezo to help him lock\n",
    "# This is just \"one loop\" of the computer additional control loop\n",
    "\n",
    "def Control_Setpoint(volt):\n",
    "    p.conn.query(\"GETN? 1, 120\") # Try to get rid of the paraistic information buses in the PID\n",
    "    out=p.get_out() # Get the PID output\n",
    "    if out-min_out>(max_out-min_out)*6/10: # If Pid is sending positive voltage\n",
    "        volt=volt*101/100 # Increase DC voltage\n",
    "    if out-min_out<(max_out-min_out)*4/10: # If Pid is sending negative voltage\n",
    "        volt=volt*99/100 # Decrease DC voltage\n",
    "    f.set_function_DC(volt,func_channel=func_channel) # Execute the DC voltage change\n",
    "    return(volt)"
   ]
  },
  {
   "cell_type": "code",
   "execution_count": null,
   "id": "d7e3242d",
   "metadata": {
    "ExecuteTime": {
     "end_time": "2023-05-23T17:25:45.515717Z",
     "start_time": "2023-05-23T17:25:45.515717Z"
    },
    "init_cell": true
   },
   "outputs": [],
   "source": [
    "# This is the total control loop for the PID that uses the previous function\n",
    "# It stops whenever max voltage is reached or whenever user interrupt\n",
    "\n",
    "\n",
    "def Stabilize_Setpoint():\n",
    "    volt=float(f.conn.query(\"SOURce\"+str(func_channel)+\":VOLTage:OFFSet?\"))\n",
    "    volt=float(f.conn.query(\"SOURce\"+str(func_channel)+\":VOLTage:OFFSet?\")) # get current DC voltage\n",
    "    p.conn.query(\"GETN? 1, 120\")\n",
    "    out=p.get_out()\n",
    "    time.sleep(0.1)\n",
    "    try:\n",
    "        while volt<10: # while volt is in good range\n",
    "            time.sleep(0.1)\n",
    "            volt=Control_Setpoint(volt) # we excute the control loop\n",
    "    except KeyboardInterrupt: # if user interrupt we stop the loop\n",
    "        pass"
   ]
  },
  {
   "cell_type": "markdown",
   "id": "49b07e6a",
   "metadata": {},
   "source": [
    "## Stabilize OPO"
   ]
  },
  {
   "cell_type": "code",
   "execution_count": 17,
   "id": "fd253d6e",
   "metadata": {
    "ExecuteTime": {
     "end_time": "2023-05-19T20:00:09.346875Z",
     "start_time": "2023-05-19T20:00:09.216080Z"
    }
   },
   "outputs": [
    {
     "name": "stdout",
     "output_type": "stream",
     "text": [
      "PID connected : Stanford_Research_Systems,SIM900,s/n072297,ver3.5\n",
      "\n",
      "Function generator Connecetd : Agilent Technologies,33622A,MY53800239,A.01.08-2.25-03-64-02\n",
      "\n"
     ]
    }
   ],
   "source": [
    "Setup()"
   ]
  },
  {
   "cell_type": "code",
   "execution_count": 18,
   "id": "4b78883c",
   "metadata": {
    "ExecuteTime": {
     "end_time": "2023-05-19T20:00:14.797141Z",
     "start_time": "2023-05-19T20:00:11.505569Z"
    }
   },
   "outputs": [],
   "source": [
    "Stabilize_Setpoint()"
   ]
  }
 ],
 "metadata": {
  "celltoolbar": "Initialization Cell",
  "kernelspec": {
   "display_name": "Python 3 (ipykernel)",
   "language": "python",
   "name": "python3"
  },
  "language_info": {
   "codemirror_mode": {
    "name": "ipython",
    "version": 3
   },
   "file_extension": ".py",
   "mimetype": "text/x-python",
   "name": "python",
   "nbconvert_exporter": "python",
   "pygments_lexer": "ipython3",
   "version": "3.9.7"
  },
  "latex_envs": {
   "LaTeX_envs_menu_present": true,
   "autoclose": false,
   "autocomplete": true,
   "bibliofile": "biblio.bib",
   "cite_by": "apalike",
   "current_citInitial": 1,
   "eqLabelWithNumbers": true,
   "eqNumInitial": 1,
   "hotkeys": {
    "equation": "Ctrl-E",
    "itemize": "Ctrl-I"
   },
   "labels_anchors": false,
   "latex_user_defs": false,
   "report_style_numbering": false,
   "user_envs_cfg": false
  },
  "toc": {
   "base_numbering": 1,
   "nav_menu": {},
   "number_sections": true,
   "sideBar": true,
   "skip_h1_title": false,
   "title_cell": "Table of Contents",
   "title_sidebar": "Contents",
   "toc_cell": false,
   "toc_position": {},
   "toc_section_display": true,
   "toc_window_display": false
  }
 },
 "nbformat": 4,
 "nbformat_minor": 5
}
